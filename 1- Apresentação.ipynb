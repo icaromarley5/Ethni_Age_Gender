{
 "cells": [
  {
   "cell_type": "markdown",
   "metadata": {},
   "source": [
    "# Identificando etnia, idade e gênero em rostos com *Python* e *Keras*\n"
   ]
  },
  {
   "cell_type": "markdown",
   "metadata": {},
   "source": [
    "<img style=\"float: left;\" src=\"images/perfil.png\">"
   ]
  },
  {
   "cell_type": "markdown",
   "metadata": {},
   "source": [
    "### O que uma Inteligência Artificial consegue identificar a partir de uma foto de uma pessoa?\n",
    "<img style=\"float: left;\" src=\"images/face_example.jpg\">\n",
    "<img style=\"float: left;\" src=\"images/face_example2.jpg\">\n",
    "<img style=\"float: left;\" src=\"images/face_example3.jpg\">\n",
    "<img style=\"float: left;\" src=\"images/face_example4.jpg\">"
   ]
  },
  {
   "cell_type": "markdown",
   "metadata": {},
   "source": [
    "## O projeto\n",
    "\n",
    "O principal objetivo é testar se é possível identificar características a partir de uma foto de um rosto\n",
    "\n",
    "1. Coletar imagens de rostos\n",
    "2. Montar base de dados (*dataset*)\n",
    "3. Processar *dataset*\n",
    "4. Construir rede(s)\n",
    "4. Treinar rede(s)\n",
    "5. Avaliar treinamento"
   ]
  },
  {
   "cell_type": "markdown",
   "metadata": {},
   "source": [
    "## Inspirações\n",
    "\n",
    "- <a href=\"https://www.youtube.com/watch?v=bcZFQ3f26pA\">This AI Learned To See In The Dark</a><br>Em um esforço com o objetivo de melhorar a visibilidade de fotos em condições de baixa visibilidade e manter a qualidade das imagens, um grupo de pesquisadores da Universidade de Illinois (EUA) treinaram uma rede neural com imagens escuras e claras. A rede final consegue \"clarear\" imagens escuras em menos de 1 segundo\n",
    "<img src=\"images/article_img.png\"><br><br>\n",
    "    \n",
    "- <a href=\"https://www.dailymail.co.uk/sciencetech/article-4442754/Racist-beautifying-app-lightens-skin-tone.html\">Creator of 'racist' beautifying app apologises after users claim it lightens their skin tone</a><br> Em x, um aplicativo de trend do mercado mobile, \"FaceApp\", oferece uma funcionalidade de \"enbelezamento\". O problema? A funcionalidade clareia a pele de pessoas de etnia negra. O responsável pelo app pediu desculpa e renomeou o nome da funcionalidade de \"enbelezamento\" para \"clareamento\".\n",
    "<img  src=\"images/article2_img.png\">"
   ]
  },
  {
   "cell_type": "markdown",
   "metadata": {},
   "source": [
    "## Um pouco de teoria"
   ]
  },
  {
   "cell_type": "markdown",
   "metadata": {},
   "source": [
    "### Aprendizagem supervisionada"
   ]
  },
  {
   "cell_type": "markdown",
   "metadata": {},
   "source": [
    "- É uma tarefa de aprendizado de máquina<br>\n",
    "- Nos dados, existe uma função desconhecida f(x) → y <br>\n",
    "- Essa função associa um conjunto de características x a uma característica específica y<br>\n",
    "- As características x são chamadas de variáveis explicativas (explanatory variables)<br>\n",
    "- A característica y é chamada de variável alvo (target variable)<br>\n",
    "- Tanto x quanto y podem ser vistos como colunas em uma tabela <br>\n",
    "- Cada linha representa um elemento do mundo (um dado) <br>\n",
    "- Cada coluna é uma característica desse elemento<br>\n",
    "- Quais colunas formarão o grupo de variáveis explicativas e qual coluna será a variável alvo depende do problema a ser solucionado<br>\n"
   ]
  },
  {
   "cell_type": "code",
   "execution_count": 1,
   "metadata": {},
   "outputs": [
    {
     "data": {
      "text/html": [
       "<div>\n",
       "<style scoped>\n",
       "    .dataframe tbody tr th:only-of-type {\n",
       "        vertical-align: middle;\n",
       "    }\n",
       "\n",
       "    .dataframe tbody tr th {\n",
       "        vertical-align: top;\n",
       "    }\n",
       "\n",
       "    .dataframe thead th {\n",
       "        text-align: right;\n",
       "    }\n",
       "</style>\n",
       "<table border=\"1\" class=\"dataframe\">\n",
       "  <thead>\n",
       "    <tr style=\"text-align: right;\">\n",
       "      <th></th>\n",
       "      <th>Nome</th>\n",
       "      <th>Nota 1</th>\n",
       "      <th>Nota 2</th>\n",
       "      <th>Aprovação</th>\n",
       "    </tr>\n",
       "  </thead>\n",
       "  <tbody>\n",
       "    <tr>\n",
       "      <td>0</td>\n",
       "      <td>Aluno 0</td>\n",
       "      <td>3</td>\n",
       "      <td>10</td>\n",
       "      <td>True</td>\n",
       "    </tr>\n",
       "    <tr>\n",
       "      <td>1</td>\n",
       "      <td>Aluno 1</td>\n",
       "      <td>0</td>\n",
       "      <td>1</td>\n",
       "      <td>False</td>\n",
       "    </tr>\n",
       "    <tr>\n",
       "      <td>2</td>\n",
       "      <td>Aluno 2</td>\n",
       "      <td>5</td>\n",
       "      <td>1</td>\n",
       "      <td>False</td>\n",
       "    </tr>\n",
       "    <tr>\n",
       "      <td>3</td>\n",
       "      <td>Aluno 3</td>\n",
       "      <td>4</td>\n",
       "      <td>2</td>\n",
       "      <td>False</td>\n",
       "    </tr>\n",
       "    <tr>\n",
       "      <td>4</td>\n",
       "      <td>Aluno 4</td>\n",
       "      <td>6</td>\n",
       "      <td>2</td>\n",
       "      <td>False</td>\n",
       "    </tr>\n",
       "  </tbody>\n",
       "</table>\n",
       "</div>"
      ],
      "text/plain": [
       "      Nome  Nota 1  Nota 2  Aprovação\n",
       "0  Aluno 0       3      10       True\n",
       "1  Aluno 1       0       1      False\n",
       "2  Aluno 2       5       1      False\n",
       "3  Aluno 3       4       2      False\n",
       "4  Aluno 4       6       2      False"
      ]
     },
     "execution_count": 1,
     "metadata": {},
     "output_type": "execute_result"
    }
   ],
   "source": [
    "import pandas as pd\n",
    "import numpy as np \n",
    "\n",
    "n_rows = 100\n",
    "df = pd.DataFrame([])\n",
    "df['Nome'] = ['Aluno {}'.format(i) for i in range(n_rows)]\n",
    "df['Nota 1'] = [np.random.randint(0,11) for i in range(n_rows)]\n",
    "df['Nota 2'] = [np.random.randint(0,11) for i in range(n_rows)]\n",
    "df['Aprovação'] = (df['Nota 1'] + df['Nota 2'])/2 > 5\n",
    "df.head(5)"
   ]
  },
  {
   "cell_type": "markdown",
   "metadata": {},
   "source": [
    "- O problema a ser solucionado vem de uma ausência de uma característica específica dos elementos em uma parte dos dados<br>\n",
    "Isso é comum pois muitas bases de dados são coletadas manualmente e não é sempre possível coletar todos os dados<br>"
   ]
  },
  {
   "cell_type": "code",
   "execution_count": 2,
   "metadata": {},
   "outputs": [
    {
     "data": {
      "text/html": [
       "<div>\n",
       "<style scoped>\n",
       "    .dataframe tbody tr th:only-of-type {\n",
       "        vertical-align: middle;\n",
       "    }\n",
       "\n",
       "    .dataframe tbody tr th {\n",
       "        vertical-align: top;\n",
       "    }\n",
       "\n",
       "    .dataframe thead th {\n",
       "        text-align: right;\n",
       "    }\n",
       "</style>\n",
       "<table border=\"1\" class=\"dataframe\">\n",
       "  <thead>\n",
       "    <tr style=\"text-align: right;\">\n",
       "      <th></th>\n",
       "      <th>Nome</th>\n",
       "      <th>Nota 1</th>\n",
       "      <th>Nota 2</th>\n",
       "    </tr>\n",
       "  </thead>\n",
       "  <tbody>\n",
       "    <tr>\n",
       "      <td>95</td>\n",
       "      <td>Aluno 95</td>\n",
       "      <td>2</td>\n",
       "      <td>5</td>\n",
       "    </tr>\n",
       "    <tr>\n",
       "      <td>96</td>\n",
       "      <td>Aluno 96</td>\n",
       "      <td>9</td>\n",
       "      <td>8</td>\n",
       "    </tr>\n",
       "    <tr>\n",
       "      <td>97</td>\n",
       "      <td>Aluno 97</td>\n",
       "      <td>9</td>\n",
       "      <td>6</td>\n",
       "    </tr>\n",
       "    <tr>\n",
       "      <td>98</td>\n",
       "      <td>Aluno 98</td>\n",
       "      <td>6</td>\n",
       "      <td>8</td>\n",
       "    </tr>\n",
       "    <tr>\n",
       "      <td>99</td>\n",
       "      <td>Aluno 99</td>\n",
       "      <td>5</td>\n",
       "      <td>7</td>\n",
       "    </tr>\n",
       "  </tbody>\n",
       "</table>\n",
       "</div>"
      ],
      "text/plain": [
       "        Nome  Nota 1  Nota 2\n",
       "95  Aluno 95       2       5\n",
       "96  Aluno 96       9       8\n",
       "97  Aluno 97       9       6\n",
       "98  Aluno 98       6       8\n",
       "99  Aluno 99       5       7"
      ]
     },
     "execution_count": 2,
     "metadata": {},
     "output_type": "execute_result"
    }
   ],
   "source": [
    "df.tail(5)[['Nome','Nota 1','Nota 2']]"
   ]
  },
  {
   "cell_type": "markdown",
   "metadata": {},
   "source": [
    "- Isso é comum pois muitas bases de dados são coletadas manualmente e não é sempre possível coletar todos os dados<br>\n",
    "- Se a função que associa x a y é conhecida, é só aplicar nos dados incompletos<br>\n",
    "- Se a função é desconhecida e a variável não é importante / crítica, é só ignorar e deixar em branco <br>\n",
    "- **E se a variável for importante e a função não for conhecida?**"
   ]
  },
  {
   "cell_type": "markdown",
   "metadata": {},
   "source": [
    "- Como os dois grupos de dados possuem a mesma origem (mesmas distribuições), é possível:<br>\n",
    "- Aplicar um algoritmo para encontrar uma aproximação dessa função nos dados onde a característica y está presente<br>\n",
    "- Utilizar essa função para preencher os dados incompletos<br>\n",
    "- Em outras palavras, no aprendizado supervisionado, modelos de aprendizado de máquina são utilizados para aproximar uma função que associa características dos dados e é observável em apenas uma parcela dos dados<br>"
   ]
  },
  {
   "cell_type": "markdown",
   "metadata": {},
   "source": [
    "### Uma implicação importante:<br>\n",
    "- Na aprendizagem supervisionada, um modelo pode ser treinado para entender um problema e usar esse entendimento em dados futuros<br>\n",
    "- \"Aprender e prever\"<br>"
   ]
  },
  {
   "cell_type": "markdown",
   "metadata": {},
   "source": [
    "![image.png](images/supervised_learning.png)"
   ]
  },
  {
   "cell_type": "markdown",
   "metadata": {},
   "source": [
    "### O roteiro cíclico de um projeto"
   ]
  },
  {
   "cell_type": "markdown",
   "metadata": {},
   "source": [
    "1. Coletar dados\n",
    "2. Processar dados\n",
    "3. Treinar modelo\n",
    "4. Avaliar resultados"
   ]
  },
  {
   "cell_type": "markdown",
   "metadata": {},
   "source": [
    "### Classificação e Regressão"
   ]
  },
  {
   "cell_type": "markdown",
   "metadata": {},
   "source": [
    "- São atividades de Supervised Learning<br>\n",
    "- A principal diferença entre a classificação e a regressão é a variável alvo:<br>\n",
    "- Na classificação, a variável alvo possui valores finitos e sem ordem aparente (String / booleano)<br>\n",
    "- Na regressão, a variável alvo é numérica (inteira / real)<br>"
   ]
  },
  {
   "cell_type": "markdown",
   "metadata": {},
   "source": [
    "### Visualizando melhor os dados e os modelos"
   ]
  },
  {
   "cell_type": "code",
   "execution_count": 3,
   "metadata": {},
   "outputs": [
    {
     "data": {
      "text/plain": [
       "<Figure size 586.109x500 with 1 Axes>"
      ]
     },
     "metadata": {},
     "output_type": "display_data"
    }
   ],
   "source": [
    "import seaborn as sns\n",
    "import matplotlib.pyplot as plt \n",
    "\n",
    "sns.lmplot('Nota 1', 'Nota 2', data=df, hue='Aprovação', fit_reg=False)\n",
    "plt.show()"
   ]
  },
  {
   "cell_type": "code",
   "execution_count": 4,
   "metadata": {},
   "outputs": [
    {
     "data": {
      "image/png": "[encoded data removed]",
      "text/plain": [
       "<Figure size 422.125x360 with 1 Axes>"
      ]
     },
     "metadata": {
      "needs_background": "light"
     },
     "output_type": "display_data"
    }
   ],
   "source": [
    "sns.lmplot('Nota 1', 'Nota 2', data=df, hue='Aprovação', fit_reg=False)\n",
    "plt.plot((0.3, 10.5), (10, 0), '-r')\n",
    "plt.show()"
   ]
  },
  {
   "cell_type": "code",
   "execution_count": 5,
   "metadata": {},
   "outputs": [
    {
     "data": {
      "text/html": [
       "<div>\n",
       "<style scoped>\n",
       "    .dataframe tbody tr th:only-of-type {\n",
       "        vertical-align: middle;\n",
       "    }\n",
       "\n",
       "    .dataframe tbody tr th {\n",
       "        vertical-align: top;\n",
       "    }\n",
       "\n",
       "    .dataframe thead th {\n",
       "        text-align: right;\n",
       "    }\n",
       "</style>\n",
       "<table border=\"1\" class=\"dataframe\">\n",
       "  <thead>\n",
       "    <tr style=\"text-align: right;\">\n",
       "      <th></th>\n",
       "      <th>M2</th>\n",
       "      <th>Preço</th>\n",
       "    </tr>\n",
       "  </thead>\n",
       "  <tbody>\n",
       "    <tr>\n",
       "      <td>0</td>\n",
       "      <td>55</td>\n",
       "      <td>6615</td>\n",
       "    </tr>\n",
       "    <tr>\n",
       "      <td>1</td>\n",
       "      <td>71</td>\n",
       "      <td>5068</td>\n",
       "    </tr>\n",
       "    <tr>\n",
       "      <td>2</td>\n",
       "      <td>81</td>\n",
       "      <td>10815</td>\n",
       "    </tr>\n",
       "    <tr>\n",
       "      <td>3</td>\n",
       "      <td>134</td>\n",
       "      <td>25883</td>\n",
       "    </tr>\n",
       "    <tr>\n",
       "      <td>4</td>\n",
       "      <td>135</td>\n",
       "      <td>26635</td>\n",
       "    </tr>\n",
       "  </tbody>\n",
       "</table>\n",
       "</div>"
      ],
      "text/plain": [
       "    M2  Preço\n",
       "0   55   6615\n",
       "1   71   5068\n",
       "2   81  10815\n",
       "3  134  25883\n",
       "4  135  26635"
      ]
     },
     "execution_count": 5,
     "metadata": {},
     "output_type": "execute_result"
    }
   ],
   "source": [
    "df = pd.DataFrame()\n",
    "df['M2'] = [np.random.randint(50,200) for i in range(1000)]\n",
    "df['Preço'] = df['M2'].apply(lambda m2: m2**2 + np.random.randint(-m2//2,m2*100))\n",
    "df.head()"
   ]
  },
  {
   "cell_type": "code",
   "execution_count": 6,
   "metadata": {},
   "outputs": [
    {
     "data": {
      "image/png": "[encoded data removed]",
      "text/plain": [
       "<Figure size 360x360 with 1 Axes>"
      ]
     },
     "metadata": {
      "needs_background": "light"
     },
     "output_type": "display_data"
    }
   ],
   "source": [
    "sns.lmplot('M2', 'Preço', data=df,fit_reg=False)\n",
    "plt.show()"
   ]
  },
  {
   "cell_type": "code",
   "execution_count": 7,
   "metadata": {},
   "outputs": [
    {
     "data": {
      "image/png": "[encoded data removed]",
      "text/plain": [
       "<Figure size 360x360 with 1 Axes>"
      ]
     },
     "metadata": {
      "needs_background": "light"
     },
     "output_type": "display_data"
    }
   ],
   "source": [
    "sns.lmplot('M2', 'Preço', data=df,fit_reg=False)\n",
    "x = df['M2'].sort_values()\n",
    "y = x**2 + 50*x + 500\n",
    "plt.plot(x,y,'-r')\n",
    "plt.show()"
   ]
  },
  {
   "cell_type": "markdown",
   "metadata": {},
   "source": [
    "### Aprendendo vs decorando"
   ]
  },
  {
   "cell_type": "markdown",
   "metadata": {},
   "source": [
    "- O principal objetivo da aprendizagem supervisionada é treinar modelos para que sejam capazes de replicar a função aproximada em novos dados<br>\n",
    "- Essa capacidade é chamada de generalização, onde o modelo \"generaliza\" a função e consegue aplicá-la corretamente a novos dados.<br>\n",
    "- É similar a um aluno que estuda um livro para fazer uma prova<br>"
   ]
  },
  {
   "cell_type": "markdown",
   "metadata": {},
   "source": [
    "- Overfitting é um fenômeno bastante comum e ocorre quando o modelo treinado associa ruídos nas variáveis explicativas com os valores da variável alvo<br>\n",
    "- Geralmente ocorro por causa de uma pequena quantidade de dados combinada com uma alta flexibilidade do modelo utilizado<br>\n",
    "- É similar a um aluno que decora as questões do livro e não consegue responder uma prova que possui questões diferentes<br>"
   ]
  },
  {
   "cell_type": "markdown",
   "metadata": {},
   "source": [
    "![image.png](images/matematica_overfitting.jpg)"
   ]
  },
  {
   "cell_type": "markdown",
   "metadata": {},
   "source": [
    "- É um dos maiores problemas da aprendizagem supervisionada<br>\n",
    "- Overfitting pode ser identificado ao simular a parcela de dados incompleta\n",
    "- Dividir os dados onde a variável alvo está presente em dois grupos, um para treinamento e um para teste<br>\n",
    "- O modelo é treinado em um deles, chamado de \"*dataset* de treinamento\"<br>\n",
    "- O desempenho do modelo é testado no outro, chamado de \"*dataset* de teste\"<br>\n",
    "- Uma avaliação é feita em relação ao desempenho do modelo entre os dois *datasets*. Se a disparidade for grande, existe Overfitting e o modelo não está conseguindo generalizar bem os padrões do *dataset* de treinamento"
   ]
  },
  {
   "cell_type": "markdown",
   "metadata": {},
   "source": [
    "![image.png](images/overfitting_example2.png)"
   ]
  },
  {
   "cell_type": "markdown",
   "metadata": {},
   "source": [
    "![image.png](images/overfitting_example.png)"
   ]
  },
  {
   "cell_type": "markdown",
   "metadata": {},
   "source": [
    "- Existem modelos para os mais variados gostos<br>\n",
    "- Em relação às suas características, a mais importante é a flexibilidade <br>\n",
    "- A flexibilidade indica a capacidade do modelo de aproximar funções complexas<br>\n",
    "- Contudo, modelos mais flexíveis são mais capazes, porém, sofrem com ruídos nos dados, capturando padrões que ocorreram por acaso (*Overfitting*)<br>\n",
    "\n",
    "- **OBS**: A técnica de separação de dados em treinamento e teste (*train test split*) pode ser utilizada para identificar overfitting e escolher os modelos (e seus parâmetros) mais adequados aos dados<br>"
   ]
  },
  {
   "cell_type": "markdown",
   "metadata": {},
   "source": [
    "![image.png](images/train_test_split_example.png)"
   ]
  },
  {
   "cell_type": "markdown",
   "metadata": {},
   "source": [
    "### Redes neurais\n",
    "- Modelo matemático inspirado no cérebro humano\n",
    "- É formado por camadas de neurônios (pontos de processamento)\n",
    "- Essas camadas de neurônios possuem ligações com as camadas anteriores e posteriores\n",
    "- A informação é passada das camadas iniciais até as últimas camadas\n",
    "- Em cada neurônio, existe uma função de ativação\n",
    "- Nessa função, são consideradas as saídas da camada anterior que estão conectadas e o peso (weight) de cada conexão\n",
    "- As entradas e saídas de uma rede neural são todas numéricas<br>\n",
    "<img style=\"float: left;\" src=\"images/neural_network_img1.png\">\n",
    "<img style=\"float: left;\" src=\"images/neural_network_img2.png\">"
   ]
  },
  {
   "cell_type": "markdown",
   "metadata": {},
   "source": [
    "\n",
    "- Modelos complexos e capazes\n",
    "- São um tipo de modelo bastante utilizado em várias tarefas\n",
    "- Nas tarefas de Aprendizagem supervisionada, são suscetíveis a Overfitting \n",
    "- Ao final de cada iteração de treinamento (época), a saída da rede é analisada e os erros são calculados\n",
    "- Os pesos de cada conexão são atualizados de acordo com os erros\n",
    "- Por causa da facilidade de Overfitting, são necessário muitos dados\n",
    "- São modelos \"caixa preta\"\n",
    "\n",
    "<img style=\"float: left;\" src=\"images/black_box.jpg\">"
   ]
  },
  {
   "cell_type": "markdown",
   "metadata": {},
   "source": [
    "### Redes neurais convolucionais\n",
    "- Rede neural com uma ou mais camadas convolucionais, seguida por uma parte completamente conectada\n",
    "- Uma camada convolucional é formada por filtros que são aplicados na imagem \n",
    "- Uma parte completamente conectada são sequências de camadas de neurônios que estão conectados com todos os neurônios da camada seguinte\n",
    "<img style=\"float: left;\" src=\"images/cnn_example.png\">"
   ]
  },
  {
   "cell_type": "markdown",
   "metadata": {},
   "source": [
    "- Uma sequencia de camadas convolucionais funciona como extratora de características\n",
    "- Essas características são alimentadas à parte completamente conectada da rede\n",
    "- O foco desse tipo de rede é a análise de imagens digitais\n",
    "- Formato de entrada: (Largura, Altura, Canais)\n",
    "<br>\n",
    "<img style=\"float: left;\" src=\"images/cnn_kernel.png\">\n",
    "<img style=\"float: left;\" src=\"images/cnn_filter2.png\">"
   ]
  },
  {
   "cell_type": "markdown",
   "metadata": {},
   "source": [
    "## Bibliotecas de redes neurais utilizadas no projeto\n",
    "\n",
    "<img style=\"float: left;\" src=\"images/tensorflow.png\">"
   ]
  },
  {
   "cell_type": "markdown",
   "metadata": {},
   "source": [
    "- Plataforma OpenSource para Aprendizado de Máquina\n",
    "- Desenvolvida pela Google\n",
    "- Processamento de tensores\n",
    "- Processamento paralelo, utiliza GPUs\n",
    "- Permite a construção e treinamento de redes neurais (baixo nível)"
   ]
  },
  {
   "cell_type": "markdown",
   "metadata": {},
   "source": [
    "<img style=\"float: left;\" src=\"images/keras.png\">"
   ]
  },
  {
   "cell_type": "markdown",
   "metadata": {},
   "source": [
    "- API de alto nível\n",
    "- Focada na prototipação rápida de redes neurais\n",
    "- O modulo de baixo nível pode ser Tensorflow ou outra biblioteca similar\n",
    "- Permite processamento em GPU"
   ]
  },
  {
   "cell_type": "markdown",
   "metadata": {},
   "source": [
    "# Referências\n",
    "- https://www.researchgate.net/figure/Supervised-learning-and-unsupervised-learning-Supervised-learning-uses-annotation_fig1_329533120\n",
    "- https://www.manualdeideias.com/memes/coletanea-com-as-melhores-respostas-de-provas-mais-engracadas/\n",
    "- https://medium.com/greyatom/what-is-underfitting-and-overfitting-in-machine-learning-and-how-to-deal-with-it-6803a989c76\n",
    "- https://en.wikipedia.org/wiki/Training,_validation,_and_test_sets\n",
    "- Chen et Al, Learning to See in the Dark, disponível em http://cchen156.web.engr.illinois.edu/paper/18CVPR_SID.pdf\n",
    "- https://www.dailymail.co.uk/sciencetech/article-4442754/Racist-beautifying-app-lightens-skin-tone.html\n",
    "- http://conteudo.icmc.usp.br/pessoas/andre/research/neural/\n",
    "- https://theffork.com/activation-functions-in-neural-networks/\n",
    "- https://www.learnopencv.com/neural-networks-a-30000-feet-view-for-beginners/\n",
    "- https://stackoverflow.com/questions/36243536/what-is-the-number-of-filter-in-cnn\n",
    "- https://towardsdatascience.com/a-comprehensive-guide-to-convolutional-neural-networks-the-eli5-way-3bd2b1164a53\n",
    "- https://blog.usejournal.com/convolutional-neural-network-on-nigerian-foods-565493fcdd0e\n",
    "- https://www.youtube.com/watch?v=rrOgPiqYu6s"
   ]
  },
  {
   "cell_type": "code",
   "execution_count": null,
   "metadata": {},
   "outputs": [],
   "source": []
  }
 ],
 "metadata": {
  "kernelspec": {
   "display_name": "Python 3",
   "language": "python",
   "name": "python3"
  },
  "language_info": {
   "codemirror_mode": {
    "name": "ipython",
    "version": 3
   },
   "file_extension": ".py",
   "mimetype": "text/x-python",
   "name": "python",
   "nbconvert_exporter": "python",
   "pygments_lexer": "ipython3",
   "version": "3.7.4"
  }
 },
 "nbformat": 4,
 "nbformat_minor": 2
}
