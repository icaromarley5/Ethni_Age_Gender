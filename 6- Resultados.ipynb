{
 "cells": [
  {
   "cell_type": "markdown",
   "metadata": {},
   "source": [
    "# Resultados"
   ]
  },
  {
   "cell_type": "markdown",
   "metadata": {},
   "source": [
    "## Testando os modelos"
   ]
  },
  {
   "cell_type": "code",
   "execution_count": 92,
   "metadata": {},
   "outputs": [],
   "source": [
    "from keras.models import load_model\n",
    "import matplotlib.pyplot as plt \n",
    "import numpy as np \n",
    "from PIL import Image\n",
    "\n",
    "model_gender = load_model('models/gênero_final.h5')\n",
    "model_ethnicity = load_model('models/etnia_final.h5')\n",
    "model_age = load_model('models/idade_final.h5')\n",
    "\n",
    "gender_dict = {\n",
    "    0: 'Masculino',\n",
    "    1: 'Feminino',\n",
    "}\n",
    "\n",
    "ethni_dict = {\n",
    "    0:'Branca',\n",
    "    1:'Negra',\n",
    "    2:'Asiática',\n",
    "    3:'Indiana',\n",
    "    4:'Outra',\n",
    "}\n",
    "\n",
    "def print_predictions(image_path):\n",
    "    img = Image.open(image_path)\n",
    "    plt.imshow(img,cmap='gray')\n",
    "    plt.show()\n",
    "    x = np.array([np.array(img)])\n",
    "    x = np.expand_dims(x, axis=3)    \n",
    "    gender = gender_dict[1 if model_gender.predict(x)[0][0] >= .5 else 0]\n",
    "    ethni = ethni_dict[np.argmax(model_ethnicity.predict(x))]\n",
    "    age = np.round(model_age.predict(x)[0][0])\n",
    "    print('Previsão - Etnia: {} Idade: {} Gênero: {}'.format(ethni,age,gender))  "
   ]
  },
  {
   "cell_type": "markdown",
   "metadata": {},
   "source": [
    "### Contra o holdout"
   ]
  },
  {
   "cell_type": "code",
   "execution_count": 33,
   "metadata": {},
   "outputs": [],
   "source": [
    "import os\n",
    "import numpy as np\n",
    "\n",
    "data_path = 'data/holdout/'\n",
    "files = os.listdir(data_path) \n",
    "files = [data_path + file for file in files]"
   ]
  },
  {
   "cell_type": "code",
   "execution_count": 130,
   "metadata": {},
   "outputs": [
    {
     "data": {
      "image/png": "[encoded data removed]",
      "text/plain": [
       "<Figure size 432x288 with 1 Axes>"
      ]
     },
     "metadata": {
      "needs_background": "light"
     },
     "output_type": "display_data"
    },
    {
     "name": "stdout",
     "output_type": "stream",
     "text": [
      "Previsão - Etnia: Negra Idade: 41.0 Gênero: Feminino\n",
      "Valores reais - Etnia: Negra Idade: 35 Gênero: Masculino\n"
     ]
    }
   ],
   "source": [
    "file_path = files[np.random.randint(0,len(files))]\n",
    "print_predictions(file_path)\n",
    "age = file_path.split('/')[-1].split(\"_\")[0]\n",
    "gender = gender_dict[int(file_path.split(\"_\")[1])]\n",
    "ethni = ethni_dict[int(file_path.split(\"_\")[2])]\n",
    "print(\"Valores reais - Etnia: {} Idade: {} Gênero: {}\".format(ethni,age,gender))"
   ]
  },
  {
   "cell_type": "markdown",
   "metadata": {},
   "source": [
    "# Fim e muito obrigado!"
   ]
  },
  {
   "cell_type": "markdown",
   "metadata": {},
   "source": [
    "![image.png](images/horse_ml.jpg)"
   ]
  }
 ],
 "metadata": {
  "kernelspec": {
   "display_name": "Python 3",
   "language": "python",
   "name": "python3"
  }
 },
 "nbformat": 4,
 "nbformat_minor": 2
}
