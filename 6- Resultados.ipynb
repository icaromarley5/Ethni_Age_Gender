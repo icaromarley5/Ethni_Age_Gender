{
 "cells": [
  {
   "cell_type": "markdown",
   "metadata": {
    "slideshow": {
     "slide_type": "slide"
    }
   },
   "source": [
    "# Resultados"
   ]
  },
  {
   "cell_type": "markdown",
   "metadata": {
    "slideshow": {
     "slide_type": "slide"
    }
   },
   "source": [
    "## Testando os modelos"
   ]
  },
  {
   "cell_type": "code",
   "execution_count": 1,
   "metadata": {
    "slideshow": {
     "slide_type": "slide"
    }
   },
   "outputs": [
    {
     "name": "stderr",
     "output_type": "stream",
     "text": [
      "Using TensorFlow backend.\n"
     ]
    },
    {
     "name": "stdout",
     "output_type": "stream",
     "text": [
      "WARNING:tensorflow:From C:\\ProgramData\\Anaconda3\\lib\\site-packages\\tensorflow\\python\\ops\\resource_variable_ops.py:435: colocate_with (from tensorflow.python.framework.ops) is deprecated and will be removed in a future version.\n",
      "Instructions for updating:\n",
      "Colocations handled automatically by placer.\n",
      "WARNING:tensorflow:From C:\\ProgramData\\Anaconda3\\lib\\site-packages\\tensorflow\\python\\ops\\math_ops.py:3066: to_int32 (from tensorflow.python.ops.math_ops) is deprecated and will be removed in a future version.\n",
      "Instructions for updating:\n",
      "Use tf.cast instead.\n"
     ]
    }
   ],
   "source": [
    "from keras.models import load_model\n",
    "import matplotlib.pyplot as plt \n",
    "import numpy as np \n",
    "from PIL import Image\n",
    "\n",
    "model_gender = load_model('models/gênero_final.h5')\n",
    "model_ethnicity = load_model('models/etnia_final.h5')\n",
    "model_age = load_model('models/idade_final.h5')\n",
    "\n",
    "gender_dict = {\n",
    "    0: 'Masculino',\n",
    "    1: 'Feminino',\n",
    "}\n",
    "\n",
    "ethni_dict = {\n",
    "    0:'Branca',\n",
    "    1:'Negra',\n",
    "    2:'Asiática',\n",
    "    3:'Indiana',\n",
    "    4:'Outra',\n",
    "}\n",
    "\n",
    "def print_predictions(image_path):\n",
    "    img = Image.open(image_path)\n",
    "    plt.imshow(img,cmap='gray')\n",
    "    plt.show()\n",
    "    \n",
    "    x = [(image - image.min())/(image.max()-image.min()) for image in np.array(img)]\n",
    "    x = np.expand_dims(x, axis=2)    \n",
    "    x = np.expand_dims(x, axis=0)\n",
    "    \n",
    "    gender_output = model_gender.predict(x)\n",
    "    age_output = model_age.predict(x)\n",
    "    ethni_output = model_ethnicity.predict(x)\n",
    "    \n",
    "    gender = gender_dict[1 if gender_output[0][0] >= .5 else 0]\n",
    "    ethni = ethni_dict[np.argmax(ethni_output)]\n",
    "    age = int(np.round(age_output[0][0]))\n",
    "    \n",
    "    print('Saídas -\\n ETNIA: {}\\n IDADE: {}\\n GÊNERO: {}\\n'.format(\n",
    "        ethni_output,\n",
    "        age_output,\n",
    "        gender_output))\n",
    "    print('Previsões - ETNIA: {} IDADE: {} GÊNERO: {}'.format(ethni,age,gender)) "
   ]
  },
  {
   "cell_type": "markdown",
   "metadata": {},
   "source": [
    "## Contra imagens do treinamento"
   ]
  },
  {
   "cell_type": "code",
   "execution_count": 2,
   "metadata": {
    "slideshow": {
     "slide_type": "slide"
    }
   },
   "outputs": [],
   "source": [
    "import os\n",
    "import numpy as np\n",
    "\n",
    "data_path = 'data/train_test/'\n",
    "files = os.listdir(data_path) "
   ]
  },
  {
   "cell_type": "code",
   "execution_count": 3,
   "metadata": {
    "slideshow": {
     "slide_type": "slide"
    }
   },
   "outputs": [
    {
     "data": {
      "image/png": "[encoded data removed]",
      "text/plain": [
       "<Figure size 432x288 with 1 Axes>"
      ]
     },
     "metadata": {
      "needs_background": "light"
     },
     "output_type": "display_data"
    },
    {
     "name": "stdout",
     "output_type": "stream",
     "text": [
      "Saídas -\n",
      " ETNIA: [[0.9433848  0.00415395 0.02563148 0.00645405 0.02037561]]\n",
      " IDADE: [[0.34920362]]\n",
      " GÊNERO: [[0.66297036]]\n",
      "\n",
      "Previsões - ETNIA: Branca IDADE: 0 GÊNERO: Feminino\n",
      "Valores reais - ETNIA: Branca IDADE: 1 GÊNERO: Feminino\n"
     ]
    }
   ],
   "source": [
    "file_path = files[np.random.randint(0,len(files))]\n",
    "print_predictions(data_path+file_path)\n",
    "\n",
    "age = file_path.split('/')[-1].split(\"_\")[0].split('.')[-1]\n",
    "gender = gender_dict[int(file_path.split(\"_\")[1])]\n",
    "ethni = ethni_dict[int(file_path.split(\"_\")[2])]\n",
    "\n",
    "print(\"Valores reais - ETNIA: {} IDADE: {} GÊNERO: {}\".format(ethni,age,gender))"
   ]
  },
  {
   "cell_type": "markdown",
   "metadata": {
    "slideshow": {
     "slide_type": "slide"
    }
   },
   "source": [
    "### Contra imagens que não vistas (holdout)"
   ]
  },
  {
   "cell_type": "code",
   "execution_count": 4,
   "metadata": {
    "slideshow": {
     "slide_type": "slide"
    }
   },
   "outputs": [],
   "source": [
    "data_path = 'data/holdout/'\n",
    "files = os.listdir(data_path) "
   ]
  },
  {
   "cell_type": "code",
   "execution_count": 5,
   "metadata": {
    "slideshow": {
     "slide_type": "slide"
    }
   },
   "outputs": [
    {
     "data": {
      "image/png": "[encoded data removed]",
      "text/plain": [
       "<Figure size 432x288 with 1 Axes>"
      ]
     },
     "metadata": {
      "needs_background": "light"
     },
     "output_type": "display_data"
    },
    {
     "name": "stdout",
     "output_type": "stream",
     "text": [
      "Saídas -\n",
      " ETNIA: [[0.8179228  0.00742208 0.06920364 0.03412498 0.07132649]]\n",
      " IDADE: [[38.636234]]\n",
      " GÊNERO: [[0.9211072]]\n",
      "\n",
      "Previsões - ETNIA: Branca IDADE: 39 GÊNERO: Feminino\n",
      "Valores reais - ETNIA: Indiana IDADE: 52 GÊNERO: Feminino\n"
     ]
    }
   ],
   "source": [
    "file_path = files[np.random.randint(0,len(files))]\n",
    "print_predictions(data_path+file_path)\n",
    "\n",
    "age = file_path.split('/')[-1].split(\"_\")[0]\n",
    "gender = gender_dict[int(file_path.split(\"_\")[1])]\n",
    "ethni = ethni_dict[int(file_path.split(\"_\")[2])]\n",
    "\n",
    "print(\"Valores reais - ETNIA: {} IDADE: {} GÊNERO: {}\".format(ethni,age,gender))"
   ]
  },
  {
   "cell_type": "markdown",
   "metadata": {
    "slideshow": {
     "slide_type": "slide"
    }
   },
   "source": [
    "### Contato \n",
    "<p> <img style=\"float: left;\" src=\"images/linkedin.png\"> <a href=\"www.linkedin.com/in/icaro-marley\">www.linkedin.com/in/icaro-marley</a> </p>\n",
    "<p> <img style=\"float: left;\" src=\"images/telegram.png\"> icaro_marley </p>\n",
    "<p> <img style=\"float: left;\" src=\"images/gmail.png\"> icaromarley5@gmail.com </p>\n"
   ]
  },
  {
   "cell_type": "markdown",
   "metadata": {
    "slideshow": {
     "slide_type": "slide"
    }
   },
   "source": [
    "## Projeto disponível em \n",
    "<p> <img style=\"float: left;\" src=\"images/github.png\"> <a href=\"https://github.com/icaromarley5/Ethni_Age_Gender\">https://github.com/icaromarley5/Ethni_Age_Gender</a></p>"
   ]
  },
  {
   "cell_type": "markdown",
   "metadata": {
    "slideshow": {
     "slide_type": "slide"
    }
   },
   "source": [
    "# Fim e muito obrigado! Alguma dúvida?\n",
    "<img style=\"float: left;\" src=\"images/horse_ml.jpg\">"
   ]
  }
 ],
 "metadata": {
  "kernelspec": {
   "display_name": "Python 3",
   "language": "python",
   "name": "python3"
  },
  "language_info": {
   "codemirror_mode": {
    "name": "ipython",
    "version": 3
   },
   "file_extension": ".py",
   "mimetype": "text/x-python",
   "name": "python",
   "nbconvert_exporter": "python",
   "pygments_lexer": "ipython3",
   "version": "3.7.3"
  }
 },
 "nbformat": 4,
 "nbformat_minor": 2
}
