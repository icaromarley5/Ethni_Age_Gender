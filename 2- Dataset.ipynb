{
 "cells": [
  {
   "cell_type": "markdown",
   "metadata": {},
   "source": [
    "# Dataset\n",
    "\n",
    "### Nome: UTKFace\n",
    "Disponível em: <a href=\"https://susanqq.github.io/UTKFace/\">https://susanqq.github.io/UTKFace/</a>"
   ]
  },
  {
   "cell_type": "markdown",
   "metadata": {},
   "source": [
    "### Informações\n",
    "- 20 mil imagens de rostos \n",
    "- Anotações sobre idade, etnia e gênero\n",
    "- Rostos recortados e alinhados"
   ]
  },
  {
   "cell_type": "markdown",
   "metadata": {},
   "source": [
    "#### Anotações\n",
    "- **idade_gênero_etnia_data&hora.jpg**\n",
    "- Idade: inteiro de 0 a 116 <br>\n",
    "- Gênero: 0 para masculino e 1 para feminino<br>\n",
    "- Etnia: 0 para branco, 1 para negro, 2 para asiático, 3 para indiano e 4 para outros<br>\n",
    "- Data e hora: estão no formato yyyymmddHHMMSSFFF<br>"
   ]
  },
  {
   "cell_type": "markdown",
   "metadata": {},
   "source": [
    "### Exemplos \n",
    "<img style=\"float:left\" src=\"images/1_0_0_20161219191012803.jpg.chip.jpg\">\n",
    "<img style=\"float:left\" src=\"images/50_1_3_20170109134207312.jpg.chip.jpg\">\n",
    "<img style=\"float:left\" src=\"images/110_1_0_20170120134701015.jpg.chip.jpg\">\n",
    "<img style=\"float:left\" src=\"images/27_0_3_20170119194353171.jpg.chip.jpg\">\n",
    "<img style=\"float:left\" src=\"images/32_1_2_20170116191623170.jpg.chip.jpg\">\n",
    "<img style=\"float:left\" src=\"images/14_0_0_20170110232124117.jpg.chip.jpg\">\n",
    "\n"
   ]
  },
  {
   "cell_type": "code",
   "execution_count": 5,
   "metadata": {},
   "outputs": [],
   "source": [
    "%matplotlib inline\n",
    "\n",
    "import os \n",
    "import pandas as pd\n",
    "import matplotlib.pyplot as plt\n",
    "import seaborn as sns\n",
    "\n",
    "data_dir = 'data/'\n",
    "data_path = data_dir + 'original/'\n",
    "random_state = 100\n",
    "\n",
    "files = os.listdir(data_path)"
   ]
  },
  {
   "cell_type": "code",
   "execution_count": 49,
   "metadata": {},
   "outputs": [
    {
     "data": {
      "text/plain": [
       "['39_1_20170116174525125.jpg.chip.jpg',\n",
       " '61_1_20170109142408075.jpg.chip.jpg',\n",
       " '61_1_20170109150557335.jpg.chip.jpg',\n",
       " '61_3_20170109150557335.jpg.chip.jpg']"
      ]
     },
     "execution_count": 49,
     "metadata": {},
     "output_type": "execute_result"
    }
   ],
   "source": [
    "[file for file in files if len(file.split('_')) < 4 ]"
   ]
  },
  {
   "cell_type": "code",
   "execution_count": 2,
   "metadata": {},
   "outputs": [],
   "source": [
    "files = [file for file in files if len(file.split('_')) == 4 ]\n",
    "\n",
    "df = pd.DataFrame(files,columns=['nome'])\n",
    "\n",
    "df['idade'] = df['nome'].apply(lambda nome:int(nome.split('_')[0]))\n",
    "df['gênero'] = df['nome'].apply(lambda nome:int(nome.split('_')[1]))\n",
    "df['etnia'] = df['nome'].apply(lambda nome:int(nome.split('_')[2]))"
   ]
  },
  {
   "cell_type": "code",
   "execution_count": 40,
   "metadata": {},
   "outputs": [
    {
     "data": {
      "text/plain": [
       "23705"
      ]
     },
     "execution_count": 40,
     "metadata": {},
     "output_type": "execute_result"
    }
   ],
   "source": [
    "df.shape[0]"
   ]
  },
  {
   "cell_type": "markdown",
   "metadata": {},
   "source": [
    "### Distribuições "
   ]
  },
  {
   "cell_type": "code",
   "execution_count": 13,
   "metadata": {},
   "outputs": [
    {
     "data": {
      "image/png": "[encoded data removed]",
      "text/plain": [
       "<Figure size 432x288 with 1 Axes>"
      ]
     },
     "metadata": {
      "needs_background": "light"
     },
     "output_type": "display_data"
    }
   ],
   "source": [
    "df['idade'].plot(kind='hist')\n",
    "plt.title('Distribuição de idades')\n",
    "plt.xlabel('Idade')\n",
    "plt.ylabel('Frequencia')\n",
    "plt.show()"
   ]
  },
  {
   "cell_type": "code",
   "execution_count": 12,
   "metadata": {},
   "outputs": [
    {
     "data": {
      "image/png": "[encoded data removed]",
      "text/plain": [
       "<Figure size 432x288 with 1 Axes>"
      ]
     },
     "metadata": {
      "needs_background": "light"
     },
     "output_type": "display_data"
    }
   ],
   "source": [
    "df['etnia'].value_counts().plot('bar')\n",
    "plt.title('Distribuição de etnias')\n",
    "plt.xlabel('Etnia')\n",
    "plt.ylabel('Frequencia')\n",
    "plt.show()"
   ]
  },
  {
   "cell_type": "code",
   "execution_count": 11,
   "metadata": {},
   "outputs": [
    {
     "data": {
      "image/png": "[encoded data removed]",
      "text/plain": [
       "<Figure size 432x288 with 1 Axes>"
      ]
     },
     "metadata": {
      "needs_background": "light"
     },
     "output_type": "display_data"
    }
   ],
   "source": [
    "df['gênero'].value_counts().plot('bar')\n",
    "plt.title('Distribuição de gêneros')\n",
    "plt.xlabel('Gênero')\n",
    "plt.ylabel('Frequencia')\n",
    "plt.show()"
   ]
  },
  {
   "cell_type": "markdown",
   "metadata": {},
   "source": [
    "### Processamento de imagens\n",
    "\n",
    "#### Redução da dimensionalidade e remoção das cores"
   ]
  },
  {
   "cell_type": "code",
   "execution_count": 3,
   "metadata": {},
   "outputs": [],
   "source": [
    "import numpy as np \n",
    "from PIL import Image\n",
    "\n",
    "df['caminho_original'] = data_path + df['nome']"
   ]
  },
  {
   "cell_type": "code",
   "execution_count": 6,
   "metadata": {},
   "outputs": [
    {
     "data": {
      "text/plain": [
       "(200, 200, 200, 200)"
      ]
     },
     "execution_count": 6,
     "metadata": {},
     "output_type": "execute_result"
    }
   ],
   "source": [
    "width_min = min(df['caminho_original'].apply(lambda nome: Image.open(nome).size[0]))\n",
    "width_max = max(df['caminho_original'].apply(lambda nome: Image.open(nome).size[0]))\n",
    "height_min = min(df['caminho_original'].apply(lambda nome: Image.open(nome).size[1]))\n",
    "height_max = max(df['caminho_original'].apply(lambda nome: Image.open(nome).size[1]))\n",
    "\n",
    "width_min,width_max,height_min,height_max"
   ]
  },
  {
   "cell_type": "code",
   "execution_count": 4,
   "metadata": {},
   "outputs": [],
   "source": [
    "size = (75,75)\n",
    "\n",
    "def process_img(input_path):\n",
    "    img = Image.open(input_path)\n",
    "    img = img.resize((size[0],size[1]), Image.ANTIALIAS)\n",
    "    img = img.convert('L')\n",
    "    return img\n",
    "\n",
    "df['imagem'] = df['caminho_original'].apply(process_img)"
   ]
  },
  {
   "cell_type": "code",
   "execution_count": 8,
   "metadata": {},
   "outputs": [
    {
     "data": {
      "image/png": "[encoded data removed]",
      "text/plain": [
       "<Figure size 432x288 with 1 Axes>"
      ]
     },
     "metadata": {
      "needs_background": "light"
     },
     "output_type": "display_data"
    }
   ],
   "source": [
    "plt.imshow(df['imagem'][0],cmap='gray')\n",
    "plt.show()"
   ]
  },
  {
   "cell_type": "markdown",
   "metadata": {},
   "source": [
    "### Separando uma pequena amostra dos dados para utilizar na apresentação"
   ]
  },
  {
   "cell_type": "code",
   "execution_count": 9,
   "metadata": {},
   "outputs": [
    {
     "name": "stdout",
     "output_type": "stream",
     "text": [
      "23586 119\n"
     ]
    }
   ],
   "source": [
    "holdout_path = data_dir + 'holdout/'\n",
    "holdout_percent = .005\n",
    "\n",
    "holdout_df = df.sample(frac=holdout_percent, random_state=random_state)\n",
    "df = df.drop(holdout_df.index)\n",
    "holdout_df.apply(lambda row: row['imagem'].save(holdout_path+row['nome']),axis=1)\n",
    "\n",
    "print(df.shape[0],holdout_df.shape[0])\n",
    "\n",
    "del holdout_df"
   ]
  },
  {
   "cell_type": "markdown",
   "metadata": {},
   "source": [
    "### Dividindo o dataset para treinamento e teste\n",
    "- **tagIdade.tagGenero.tagEtnia.idade_gênero_etnia_data&hora.jpg**<br>\n",
    "- 0: Treinamento<br>\n",
    "- 1: Validação <br>\n",
    "- 2: Teste<br><br>"
   ]
  },
  {
   "cell_type": "code",
   "execution_count": 10,
   "metadata": {},
   "outputs": [
    {
     "data": {
      "image/png": "[encoded data removed]",
      "text/plain": [
       "<Figure size 432x288 with 1 Axes>"
      ]
     },
     "metadata": {
      "needs_background": "light"
     },
     "output_type": "display_data"
    }
   ],
   "source": [
    "pd.qcut(df['idade'],5).value_counts().plot(kind='barh')\n",
    "plt.show()"
   ]
  },
  {
   "cell_type": "code",
   "execution_count": 11,
   "metadata": {},
   "outputs": [],
   "source": [
    "from sklearn.model_selection import train_test_split \n",
    "\n",
    "valid_percent = .4\n",
    "test_percent = .3\n",
    "\n",
    "idade_q = 5\n",
    "\n",
    "for column in ['idade','etnia','gênero']:\n",
    "    \n",
    "    stratify_target = df[column]\n",
    "    if column == 'idade':\n",
    "        stratify_target = pd.qcut(df['idade'],idade_q)\n",
    "        \n",
    "    X_train, X_val, y_train, y_val = train_test_split(\n",
    "        df['nome'], \n",
    "        stratify_target, \n",
    "        test_size=valid_percent, \n",
    "        random_state=random_state,\n",
    "        stratify=stratify_target)\n",
    "    \n",
    "    X_val, X_test, y_val, y_test = train_test_split(\n",
    "        X_val, \n",
    "        y_val, \n",
    "        test_size=test_percent, \n",
    "        random_state=random_state,\n",
    "        stratify=y_val)\n",
    "\n",
    "    split_dict = {\n",
    "    }\n",
    "    for index in y_train.index:\n",
    "        split_dict[index] = 0\n",
    "    for index in y_val.index:\n",
    "        split_dict[index] = 1\n",
    "    for index in y_test.index:\n",
    "        split_dict[index] = 2\n",
    "\n",
    "    df[column+'_split'] = df.apply(lambda row: split_dict[row.name],axis=1)"
   ]
  },
  {
   "cell_type": "markdown",
   "metadata": {},
   "source": [
    "### Distribuições de treinamento, validação e teste"
   ]
  },
  {
   "cell_type": "code",
   "execution_count": 13,
   "metadata": {},
   "outputs": [
    {
     "data": {
      "image/png": "[encoded data removed]",
      "text/plain": [
       "<Figure size 432x288 with 1 Axes>"
      ]
     },
     "metadata": {
      "needs_background": "light"
     },
     "output_type": "display_data"
    }
   ],
   "source": [
    "df['idade_split'].value_counts().plot(kind='bar')\n",
    "plt.title('Quantidade de imagens por tipo de dataset')\n",
    "plt.show()"
   ]
  },
  {
   "cell_type": "code",
   "execution_count": 14,
   "metadata": {},
   "outputs": [
    {
     "data": {
      "image/png": "[encoded data removed]",
      "text/plain": [
       "<Figure size 432x288 with 1 Axes>"
      ]
     },
     "metadata": {
      "needs_background": "light"
     },
     "output_type": "display_data"
    }
   ],
   "source": [
    "df.groupby('idade_split')['idade'].plot(kind='hist',legend=True)\n",
    "plt.show()"
   ]
  },
  {
   "cell_type": "code",
   "execution_count": 15,
   "metadata": {},
   "outputs": [
    {
     "data": {
      "image/png": "[encoded data removed]",
      "text/plain": [
       "<Figure size 432x288 with 1 Axes>"
      ]
     },
     "metadata": {
      "needs_background": "light"
     },
     "output_type": "display_data"
    }
   ],
   "source": [
    "df.groupby('gênero_split')['gênero'].value_counts().unstack().plot(kind='bar',legend=True)\n",
    "plt.xlabel('Dataset')\n",
    "plt.show()"
   ]
  },
  {
   "cell_type": "code",
   "execution_count": 16,
   "metadata": {},
   "outputs": [
    {
     "data": {
      "image/png": "[encoded data removed]",
      "text/plain": [
       "<Figure size 432x288 with 1 Axes>"
      ]
     },
     "metadata": {
      "needs_background": "light"
     },
     "output_type": "display_data"
    }
   ],
   "source": [
    "df.groupby('etnia_split')['etnia'].value_counts().unstack().plot(kind='bar',legend=True)\n",
    "plt.xlabel('Dataset')\n",
    "plt.show()"
   ]
  },
  {
   "cell_type": "code",
   "execution_count": 17,
   "metadata": {},
   "outputs": [
    {
     "name": "stdout",
     "output_type": "stream",
     "text": [
      "Processamento concluído!\n"
     ]
    }
   ],
   "source": [
    "output_path = data_dir + 'train_test/'\n",
    "\n",
    "df.apply(lambda row:row['imagem'].save(\"{}{}.{}.{}.{}\".format(\n",
    "    output_path,\n",
    "    row['idade_split'],row['gênero_split'],row['etnia_split'],\n",
    "    row['nome'])),\n",
    "    axis=1)\n",
    "\n",
    "print(\"Processamento concluído!\")"
   ]
  },
  {
   "cell_type": "code",
   "execution_count": null,
   "metadata": {},
   "outputs": [],
   "source": []
  }
 ],
 "metadata": {
  "kernelspec": {
   "display_name": "Python 3",
   "language": "python",
   "name": "python3"
  },
  "language_info": {
   "codemirror_mode": {
    "name": "ipython",
    "version": 3
   },
   "file_extension": ".py",
   "mimetype": "text/x-python",
   "name": "python",
   "nbconvert_exporter": "python",
   "pygments_lexer": "ipython3",
   "version": "3.7.3"
  }
 },
 "nbformat": 4,
 "nbformat_minor": 2
}
