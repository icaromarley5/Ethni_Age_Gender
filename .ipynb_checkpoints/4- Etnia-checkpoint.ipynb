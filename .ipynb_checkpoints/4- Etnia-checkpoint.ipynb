{
 "cells": [
  {
   "cell_type": "markdown",
   "metadata": {},
   "source": [
    "# Rede neural para Etnia\n",
    "\n",
    "Saídas da rede:<br>\n",
    "- [1, 0, 0, 0, 0]: branca\n",
    "- [0, 1, 0, 0, 0]: negra\n",
    "- [0, 0, 1, 0, 0]: asiática\n",
    "- [0, 0, 0, 1, 0]: indiana\n",
    "- [0, 0, 0, 0, 1]: outros"
   ]
  },
  {
   "cell_type": "markdown",
   "metadata": {},
   "source": [
    "## Configurando o treinamento"
   ]
  },
  {
   "cell_type": "code",
   "execution_count": 1,
   "metadata": {},
   "outputs": [],
   "source": [
    "import numpy as np \n",
    "\n",
    "model_path = 'models/'\n",
    "data_dir = 'data/'\n",
    "data_path = data_dir + 'train_test/'\n",
    "\n",
    "model_name = 'etnia'\n",
    "\n",
    "n_epochs = 50\n",
    "patience = 5\n",
    "input_shape = (75,75,1)\n",
    "output_shape = 5"
   ]
  },
  {
   "cell_type": "markdown",
   "metadata": {},
   "source": [
    "## Carregando os dados"
   ]
  },
  {
   "cell_type": "code",
   "execution_count": 2,
   "metadata": {},
   "outputs": [],
   "source": [
    "from PIL import Image\n",
    "import os \n",
    "\n",
    "target_dict = {\n",
    "    '0':[1, 0, 0, 0, 0],\n",
    "    '1':[0, 1, 0, 0, 0],\n",
    "    '2':[0, 0, 1, 0, 0],\n",
    "    '3':[0, 0, 0, 1, 0],\n",
    "    '4':[0, 0, 0, 0, 1],\n",
    "}\n",
    "\n",
    "def load_data(data_type):\n",
    "    \n",
    "    if data_type == 'train':\n",
    "        data_tag = '0'\n",
    "    elif data_type == 'valid':\n",
    "        data_tag = '1'\n",
    "    else:\n",
    "        data_tag = '2'\n",
    "        \n",
    "    files = os.listdir(data_path)    \n",
    "    files = [file for file in files if file.split('.')[2] == data_tag]\n",
    "    \n",
    "    y = np.array([target_dict[file.split('_')[2]] for file in files])\n",
    "    \n",
    "    files = [data_path + file for file in files] \n",
    "    x = [np.array(Image.open(file))for file in files]\n",
    "    \n",
    "    x = [(image - image.min())/(image.max()-image.min()) for image in x]\n",
    "    \n",
    "    x = np.expand_dims(x, axis=3)\n",
    "    \n",
    "    return x,y"
   ]
  },
  {
   "cell_type": "code",
   "execution_count": 3,
   "metadata": {},
   "outputs": [],
   "source": [
    "X_train, y_train = load_data('train')\n",
    "X_val, y_val = load_data('valid')"
   ]
  },
  {
   "cell_type": "markdown",
   "metadata": {},
   "source": [
    "## A rede neural"
   ]
  },
  {
   "cell_type": "code",
   "execution_count": 2,
   "metadata": {},
   "outputs": [
    {
     "name": "stderr",
     "output_type": "stream",
     "text": [
      "Using TensorFlow backend.\n"
     ]
    },
    {
     "name": "stdout",
     "output_type": "stream",
     "text": [
      "WARNING:tensorflow:From C:\\ProgramData\\Anaconda3\\lib\\site-packages\\tensorflow\\python\\ops\\resource_variable_ops.py:435: colocate_with (from tensorflow.python.framework.ops) is deprecated and will be removed in a future version.\n",
      "Instructions for updating:\n",
      "Colocations handled automatically by placer.\n"
     ]
    }
   ],
   "source": [
    "from keras.models import Sequential\n",
    "from keras.layers import Conv2D, MaxPooling2D,Dropout, Flatten, Dense\n",
    "from keras.layers.normalization import BatchNormalization\n",
    "\n",
    "model = Sequential()\n",
    "model.add(Conv2D(32, (2, 2), activation='relu'))\n",
    "model.add(MaxPooling2D(pool_size=(2, 2)))\n",
    "model.add(BatchNormalization(input_shape=input_shape))\n",
    "model.add(Dropout(.1))\n",
    "\n",
    "model.add(Conv2D(32, (2, 2), activation='relu'))\n",
    "model.add(MaxPooling2D(pool_size=(2, 2)))\n",
    "model.add(BatchNormalization(input_shape=input_shape))\n",
    "model.add(Dropout(.1))\n",
    "\n",
    "model.add(Conv2D(32, (2, 2), activation='relu'))\n",
    "model.add(MaxPooling2D(pool_size=(2, 2)))\n",
    "model.add(BatchNormalization(input_shape=input_shape))\n",
    "model.add(Dropout(.1))\n",
    "\n",
    "model.add(Conv2D(32, (2, 2), activation='relu'))\n",
    "model.add(MaxPooling2D(pool_size=(2, 2)))\n",
    "model.add(BatchNormalization(input_shape=input_shape))\n",
    "model.add(Dropout(.1))\n",
    "\n",
    "model.add(Conv2D(32, (2, 2), activation='relu'))\n",
    "model.add(MaxPooling2D(pool_size=(2, 2)))\n",
    "model.add(BatchNormalization(input_shape=input_shape))\n",
    "model.add(Dropout(.1))\n",
    "\n",
    "model.add(Flatten()) \n",
    "model.add(Dense(10, activation='relu'))\n",
    "model.add(BatchNormalization(input_shape=input_shape))\n",
    "model.add(Dense(10, activation='relu'))\n",
    "model.add(BatchNormalization(input_shape=input_shape))\n",
    "model.add(Dense(10, activation='relu'))\n",
    "model.add(BatchNormalization(input_shape=input_shape))\n",
    "model.add(Dropout(.1))\n",
    "model.add(Dense(output_shape, activation='softmax'))\n",
    "\n",
    "model.compile(\n",
    "    optimizer='adam',\n",
    "    loss='categorical_crossentropy',\n",
    "    metrics=['accuracy'],\n",
    ")"
   ]
  },
  {
   "cell_type": "code",
   "execution_count": 3,
   "metadata": {},
   "outputs": [
    {
     "data": {
      "image/png": "[encoded data removed]",
      "text/plain": [
       "<IPython.core.display.Image object>"
      ]
     },
     "execution_count": 3,
     "metadata": {},
     "output_type": "execute_result"
    }
   ],
   "source": [
    "from keras.utils.vis_utils import plot_model\n",
    "from IPython.display import Image as im\n",
    "\n",
    "data= plot_model(model, show_shapes=True, show_layer_names=True)\n",
    "im('model.png')"
   ]
  },
  {
   "cell_type": "markdown",
   "metadata": {},
   "source": [
    "## Treinamento inicial"
   ]
  },
  {
   "cell_type": "code",
   "execution_count": 5,
   "metadata": {},
   "outputs": [
    {
     "name": "stdout",
     "output_type": "stream",
     "text": [
      "Train on 14151 samples, validate on 6604 samples\n",
      "Epoch 1/50\n",
      "14151/14151 [==============================] - 28s 2ms/step - loss: 1.5145 - accuracy: 0.3898 - val_loss: 1.4942 - val_accuracy: 0.4250\n",
      "\n",
      "Epoch 00001: val_accuracy improved from -inf to 0.42505, saving model to models/etnia_0.390-0.425-01.h5\n",
      "Epoch 2/50\n",
      "14151/14151 [==============================] - 25s 2ms/step - loss: 1.3191 - accuracy: 0.4832 - val_loss: 1.2243 - val_accuracy: 0.5192\n",
      "\n",
      "Epoch 00002: val_accuracy improved from 0.42505 to 0.51923, saving model to models/etnia_0.483-0.519-02.h5\n",
      "Epoch 3/50\n",
      "14151/14151 [==============================] - 26s 2ms/step - loss: 1.1835 - accuracy: 0.5530 - val_loss: 1.0742 - val_accuracy: 0.6118\n",
      "\n",
      "Epoch 00003: val_accuracy improved from 0.51923 to 0.61175, saving model to models/etnia_0.553-0.612-03.h5\n",
      "Epoch 4/50\n",
      "14151/14151 [==============================] - 25s 2ms/step - loss: 1.0558 - accuracy: 0.6130 - val_loss: 0.9759 - val_accuracy: 0.6387\n",
      "\n",
      "Epoch 00004: val_accuracy improved from 0.61175 to 0.63870, saving model to models/etnia_0.613-0.639-04.h5\n",
      "Epoch 5/50\n",
      "14151/14151 [==============================] - 23s 2ms/step - loss: 0.9971 - accuracy: 0.6371 - val_loss: 0.9613 - val_accuracy: 0.6531\n",
      "\n",
      "Epoch 00005: val_accuracy improved from 0.63870 to 0.65309, saving model to models/etnia_0.637-0.653-05.h5\n",
      "Epoch 6/50\n",
      "14151/14151 [==============================] - 22s 2ms/step - loss: 0.9390 - accuracy: 0.6616 - val_loss: 0.9729 - val_accuracy: 0.6278\n",
      "\n",
      "Epoch 00006: val_accuracy did not improve from 0.65309\n",
      "Epoch 7/50\n",
      "14151/14151 [==============================] - 25s 2ms/step - loss: 0.9087 - accuracy: 0.6704 - val_loss: 1.1347 - val_accuracy: 0.5998\n",
      "\n",
      "Epoch 00007: val_accuracy did not improve from 0.65309\n",
      "Epoch 8/50\n",
      "14151/14151 [==============================] - 26s 2ms/step - loss: 0.8886 - accuracy: 0.6795 - val_loss: 0.7925 - val_accuracy: 0.7237\n",
      "\n",
      "Epoch 00008: val_accuracy improved from 0.65309 to 0.72365, saving model to models/etnia_0.680-0.724-08.h5\n",
      "Epoch 9/50\n",
      "14151/14151 [==============================] - 26s 2ms/step - loss: 0.8596 - accuracy: 0.6950 - val_loss: 1.1981 - val_accuracy: 0.5862\n",
      "\n",
      "Epoch 00009: val_accuracy did not improve from 0.72365\n",
      "Epoch 10/50\n",
      "14151/14151 [==============================] - 25s 2ms/step - loss: 0.8275 - accuracy: 0.7094 - val_loss: 0.8555 - val_accuracy: 0.6873\n",
      "\n",
      "Epoch 00010: val_accuracy did not improve from 0.72365\n",
      "Epoch 11/50\n",
      "14151/14151 [==============================] - 25s 2ms/step - loss: 0.8206 - accuracy: 0.7137 - val_loss: 0.7599 - val_accuracy: 0.7311\n",
      "\n",
      "Epoch 00011: val_accuracy improved from 0.72365 to 0.73107, saving model to models/etnia_0.714-0.731-11.h5\n",
      "Epoch 12/50\n",
      "14151/14151 [==============================] - 25s 2ms/step - loss: 0.8044 - accuracy: 0.7172 - val_loss: 0.7423 - val_accuracy: 0.7388\n",
      "\n",
      "Epoch 00012: val_accuracy improved from 0.73107 to 0.73879, saving model to models/etnia_0.717-0.739-12.h5\n",
      "Epoch 13/50\n",
      "14151/14151 [==============================] - 27s 2ms/step - loss: 0.7890 - accuracy: 0.7237 - val_loss: 0.7766 - val_accuracy: 0.7270\n",
      "\n",
      "Epoch 00013: val_accuracy did not improve from 0.73879\n",
      "Epoch 14/50\n",
      "14151/14151 [==============================] - 26s 2ms/step - loss: 0.7810 - accuracy: 0.7277 - val_loss: 0.7138 - val_accuracy: 0.7452\n",
      "\n",
      "Epoch 00014: val_accuracy improved from 0.73879 to 0.74515, saving model to models/etnia_0.728-0.745-14.h5\n",
      "Epoch 15/50\n",
      "14151/14151 [==============================] - 25s 2ms/step - loss: 0.7673 - accuracy: 0.7301 - val_loss: 0.8857 - val_accuracy: 0.6685\n",
      "\n",
      "Epoch 00015: val_accuracy did not improve from 0.74515\n",
      "Epoch 16/50\n",
      "14151/14151 [==============================] - 26s 2ms/step - loss: 0.7542 - accuracy: 0.7356 - val_loss: 0.7117 - val_accuracy: 0.7436\n",
      "\n",
      "Epoch 00016: val_accuracy did not improve from 0.74515\n",
      "Epoch 17/50\n",
      "14151/14151 [==============================] - 25s 2ms/step - loss: 0.7466 - accuracy: 0.7395 - val_loss: 0.8043 - val_accuracy: 0.7084\n",
      "\n",
      "Epoch 00017: val_accuracy did not improve from 0.74515\n",
      "Epoch 18/50\n",
      "14151/14151 [==============================] - 25s 2ms/step - loss: 0.7315 - accuracy: 0.7470 - val_loss: 0.7496 - val_accuracy: 0.7352\n",
      "\n",
      "Epoch 00018: val_accuracy did not improve from 0.74515\n",
      "Epoch 19/50\n",
      "14151/14151 [==============================] - 24s 2ms/step - loss: 0.7301 - accuracy: 0.7448 - val_loss: 1.1594 - val_accuracy: 0.6021\n",
      "\n",
      "Epoch 00019: val_accuracy did not improve from 0.74515\n"
     ]
    }
   ],
   "source": [
    "from keras.callbacks import EarlyStopping, ModelCheckpoint\n",
    "\n",
    "callbacks = [\n",
    "    ModelCheckpoint(\n",
    "        model_path+model_name+'_{accuracy:.3f}-{val_accuracy:.3f}-{epoch:02d}.h5',\n",
    "        monitor='val_accuracy',\n",
    "        verbose=1,\n",
    "        save_best_only=True),\n",
    "    EarlyStopping('val_accuracy',patience = patience),\n",
    "]\n",
    "\n",
    "history = model.fit(\n",
    "        x = X_train,y=y_train,\n",
    "        epochs=n_epochs,\n",
    "        validation_data=(X_val,y_val),\n",
    "        callbacks=callbacks\n",
    ")"
   ]
  },
  {
   "cell_type": "code",
   "execution_count": 7,
   "metadata": {},
   "outputs": [
    {
     "data": {
      "image/png": "[encoded data removed]",
      "text/plain": [
       "<Figure size 432x288 with 1 Axes>"
      ]
     },
     "metadata": {
      "needs_background": "light"
     },
     "output_type": "display_data"
    }
   ],
   "source": [
    "import matplotlib.pyplot as plt \n",
    "\n",
    "plt.plot(history.history['accuracy'])\n",
    "plt.plot(history.history['val_accuracy'])\n",
    "plt.title('Accuracy x época')\n",
    "plt.ylabel('Accuracy')\n",
    "plt.xlabel('Época')\n",
    "plt.legend(['Treinamento', 'Validação'], loc='upper left')\n",
    "plt.show()"
   ]
  },
  {
   "cell_type": "markdown",
   "metadata": {},
   "source": [
    "## Selecionando o melhor modelo"
   ]
  },
  {
   "cell_type": "code",
   "execution_count": 8,
   "metadata": {},
   "outputs": [],
   "source": [
    "from keras.models import load_model\n",
    "\n",
    "model = load_model('models/etnia_0.728-0.745-14.h5')"
   ]
  },
  {
   "cell_type": "markdown",
   "metadata": {},
   "source": [
    "## Ajustando o treinamento com o dataset de validação"
   ]
  },
  {
   "cell_type": "code",
   "execution_count": 9,
   "metadata": {
    "scrolled": true
   },
   "outputs": [
    {
     "name": "stdout",
     "output_type": "stream",
     "text": [
      "Epoch 1/1\n",
      "6604/6604 [==============================] - 12s 2ms/step - loss: 0.8099 - accuracy: 0.7117\n"
     ]
    },
    {
     "data": {
      "text/plain": [
       "<keras.callbacks.callbacks.History at 0x1c9488c3988>"
      ]
     },
     "execution_count": 9,
     "metadata": {},
     "output_type": "execute_result"
    }
   ],
   "source": [
    "model.fit(\n",
    "    x = X_val,\n",
    "    y=y_val,\n",
    "    epochs=1,\n",
    ")"
   ]
  },
  {
   "cell_type": "markdown",
   "metadata": {},
   "source": [
    "## Testando contra o dataset de teste\n"
   ]
  },
  {
   "cell_type": "code",
   "execution_count": 10,
   "metadata": {},
   "outputs": [],
   "source": [
    "X_test, y_test = load_data('test')"
   ]
  },
  {
   "cell_type": "markdown",
   "metadata": {},
   "source": [
    "#### Juntando dados de treinamento e validação em um único dataset para comparação"
   ]
  },
  {
   "cell_type": "code",
   "execution_count": 11,
   "metadata": {},
   "outputs": [],
   "source": [
    "X_train = np.append(X_train,X_val,axis=0)\n",
    "y_train = np.append(y_train,y_val,axis=0)\n",
    "\n",
    "del X_val, y_val"
   ]
  },
  {
   "cell_type": "code",
   "execution_count": 13,
   "metadata": {},
   "outputs": [
    {
     "name": "stdout",
     "output_type": "stream",
     "text": [
      "20755/20755 [==============================] - 5s 217us/step\n",
      "2831/2831 [==============================] - 1s 252us/step\n",
      "CNN:\n",
      "ACC treinamento 0.727\n",
      "ACC teste 0.71\n"
     ]
    }
   ],
   "source": [
    "acc_train = model.evaluate(x=X_train, y=y_train, verbose=1)[1]\n",
    "acc_test = model.evaluate(x=X_test, y=y_test, verbose=1)[1]\n",
    "\n",
    "print('CNN:')\n",
    "print(\"ACC treinamento\", np.round(acc_train,3))\n",
    "print(\"ACC teste\", np.round(acc_test,3))"
   ]
  },
  {
   "cell_type": "markdown",
   "metadata": {},
   "source": [
    "#### Comparando com modelos dummy\n",
    "\n",
    "- Estragégia dummy 1: chutar sempre a maioria <br>\n",
    "- Estragégia dummy 2: chute aleatório"
   ]
  },
  {
   "cell_type": "code",
   "execution_count": 14,
   "metadata": {},
   "outputs": [
    {
     "data": {
      "text/plain": [
       "(array(['[0 0 0 0 1]', '[0 0 0 1 0]', '[0 0 1 0 0]', '[0 1 0 0 0]',\n",
       "        '[1 0 0 0 0]'], dtype='<U11'),\n",
       " array([1478, 3487, 3002, 3966, 8822], dtype=int64))"
      ]
     },
     "execution_count": 14,
     "metadata": {},
     "output_type": "execute_result"
    }
   ],
   "source": [
    "np.unique(list(map(str,y_train)), return_counts=True)"
   ]
  },
  {
   "cell_type": "code",
   "execution_count": 15,
   "metadata": {},
   "outputs": [
    {
     "name": "stdout",
     "output_type": "stream",
     "text": [
      "Estratégia 1 (maioria):\n",
      "ACC treinamento 0.425\n",
      "ACC teste 0.425\n",
      "\n",
      "Estratégia 2 (aleatório):\n",
      "ACC treinamento 0.197\n",
      "ACC teste 0.191\n",
      "\n"
     ]
    }
   ],
   "source": [
    "from sklearn.metrics import accuracy_score\n",
    "\n",
    "def evaluate(train_pred,test_pred):\n",
    "    \n",
    "    acc_train = accuracy_score(y_train,train_predictions)\n",
    "    acc_test = accuracy_score(y_test,test_predictions)\n",
    "    \n",
    "    print(\"ACC treinamento\", np.round(acc_train,3))\n",
    "    print(\"ACC teste\", np.round(acc_test,3))\n",
    "    print()\n",
    "\n",
    "most_frequent = [1, 0, 0, 0, 0]\n",
    "train_predictions = np.array([most_frequent] * y_train.shape[0])\n",
    "test_predictions = np.array([most_frequent] * y_test.shape[0])\n",
    "print('Estratégia 1 (maioria):')\n",
    "evaluate(train_predictions,test_predictions)\n",
    "\n",
    "train_predictions = np.array(\n",
    "    [target_dict[str(np.random.randint(0,5))] for i in range(y_train.shape[0])])\n",
    "test_predictions = np.array(\n",
    "    [target_dict[str(np.random.randint(0,5))] for i in range(y_test.shape[0])])\n",
    "print('Estratégia 2 (aleatório):')\n",
    "evaluate(train_predictions,test_predictions)"
   ]
  },
  {
   "cell_type": "markdown",
   "metadata": {},
   "source": [
    "## Ajustando o treinamento com o dataset de teste"
   ]
  },
  {
   "cell_type": "code",
   "execution_count": 16,
   "metadata": {},
   "outputs": [
    {
     "name": "stdout",
     "output_type": "stream",
     "text": [
      "Epoch 1/1\n",
      "2831/2831 [==============================] - 5s 2ms/step - loss: 0.8033 - accuracy: 0.7209\n"
     ]
    },
    {
     "data": {
      "text/plain": [
       "<keras.callbacks.callbacks.History at 0x1c81ee8bd08>"
      ]
     },
     "execution_count": 16,
     "metadata": {},
     "output_type": "execute_result"
    }
   ],
   "source": [
    "model.fit(\n",
    "    x = X_test,y=y_test,\n",
    "    epochs=1,\n",
    ")"
   ]
  },
  {
   "cell_type": "markdown",
   "metadata": {},
   "source": [
    "## Salvando o modelo final"
   ]
  },
  {
   "cell_type": "code",
   "execution_count": 18,
   "metadata": {},
   "outputs": [],
   "source": [
    "model.save(model_path + model_name + '_final.h5')"
   ]
  }
 ],
 "metadata": {
  "kernelspec": {
   "display_name": "Python 3",
   "language": "python",
   "name": "python3"
  },
  "language_info": {
   "codemirror_mode": {
    "name": "ipython",
    "version": 3
   },
   "file_extension": ".py",
   "mimetype": "text/x-python",
   "name": "python",
   "nbconvert_exporter": "python",
   "pygments_lexer": "ipython3",
   "version": "3.7.3"
  }
 },
 "nbformat": 4,
 "nbformat_minor": 2
}
