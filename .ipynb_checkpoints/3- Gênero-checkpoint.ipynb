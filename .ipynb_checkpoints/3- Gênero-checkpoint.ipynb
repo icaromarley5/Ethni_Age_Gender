{
 "cells": [
  {
   "cell_type": "markdown",
   "metadata": {},
   "source": [
    "# Rede neural para gênero\n",
    "\n",
    "Saídas da rede:<br>\n",
    "- 0: Masculino\n",
    "- 1: Feminino"
   ]
  },
  {
   "cell_type": "markdown",
   "metadata": {},
   "source": [
    "## Configurando o treinamento"
   ]
  },
  {
   "cell_type": "code",
   "execution_count": 1,
   "metadata": {},
   "outputs": [],
   "source": [
    "import numpy as np \n",
    "\n",
    "model_path = 'models/'\n",
    "data_dir = 'data/'\n",
    "data_path = data_dir + 'train_test/'\n",
    "\n",
    "model_name = 'gênero'\n",
    "\n",
    "n_epochs = 20\n",
    "patience = 5\n",
    "input_shape = (75,75,1)\n",
    "output_shape = 1"
   ]
  },
  {
   "cell_type": "markdown",
   "metadata": {},
   "source": [
    "## Carregando os dados"
   ]
  },
  {
   "cell_type": "code",
   "execution_count": 2,
   "metadata": {},
   "outputs": [],
   "source": [
    "from PIL import Image\n",
    "import os \n",
    "\n",
    "def load_data(data_type):\n",
    "    \n",
    "    if data_type == 'train':\n",
    "        data_tag = '0'\n",
    "    elif data_type == 'valid':\n",
    "        data_tag = '1'\n",
    "    else:\n",
    "        data_tag = '2'\n",
    "        \n",
    "    files = os.listdir(data_path)    \n",
    "    files = [file for file in files if file.split('.')[1] == data_tag]\n",
    "    \n",
    "    y = np.array([int(file.split('_')[1]) for file in files])\n",
    "    \n",
    "    files = [data_path + file for file in files] \n",
    "    x = [np.array(Image.open(file)) for file in files]\n",
    "    \n",
    "    x = [(image - image.min())/(image.max()-image.min()) for image in x]\n",
    "    \n",
    "    x = np.expand_dims(x, axis=3)\n",
    "    \n",
    "    return x,y"
   ]
  },
  {
   "cell_type": "code",
   "execution_count": 3,
   "metadata": {},
   "outputs": [],
   "source": [
    "X_train, y_train = load_data('train')\n",
    "X_val, y_val = load_data('valid')"
   ]
  },
  {
   "cell_type": "code",
   "execution_count": 15,
   "metadata": {},
   "outputs": [
    {
     "data": {
      "text/plain": [
       "(0.0, 1.0, 0.0, 1.0)"
      ]
     },
     "execution_count": 15,
     "metadata": {},
     "output_type": "execute_result"
    }
   ],
   "source": [
    "X_train.min(),X_train.max(),X_val.min(),X_val.max()"
   ]
  },
  {
   "cell_type": "markdown",
   "metadata": {},
   "source": [
    "## A rede neural"
   ]
  },
  {
   "cell_type": "code",
   "execution_count": 8,
   "metadata": {},
   "outputs": [],
   "source": [
    "from keras.layers.normalization import BatchNormalization\n",
    "from keras.models import Sequential\n",
    "from keras.layers import Conv2D, MaxPooling2D,Dropout, Flatten, Dense\n",
    "\n",
    "model = Sequential()\n",
    "model.add(Conv2D(32, (2, 2), activation='relu'))\n",
    "model.add(BatchNormalization(input_shape=input_shape))\n",
    "model.add(Dropout(0.5))\n",
    "model.add(Conv2D(32, (2, 2), activation='relu'))\n",
    "model.add(BatchNormalization(input_shape=input_shape))\n",
    "model.add(Dropout(0.5))\n",
    "model.add(Conv2D(32, (2, 2), activation='relu'))\n",
    "model.add(MaxPooling2D(pool_size=(2, 2)))\n",
    "model.add(BatchNormalization())\n",
    "model.add(Dropout(0.5))\n",
    "\n",
    "model = Sequential()\n",
    "model.add(Conv2D(32, (2, 2), activation='relu'))\n",
    "model.add(BatchNormalization(input_shape=input_shape))\n",
    "model.add(Dropout(0.5))\n",
    "model.add(Conv2D(32, (2, 2), activation='relu'))\n",
    "model.add(BatchNormalization(input_shape=input_shape))\n",
    "model.add(Dropout(0.5))\n",
    "model.add(Conv2D(32, (2, 2), activation='relu'))\n",
    "model.add(MaxPooling2D(pool_size=(2, 2)))\n",
    "model.add(BatchNormalization())\n",
    "model.add(Dropout(0.5))\n",
    "\n",
    "model = Sequential()\n",
    "model.add(Conv2D(32, (2, 2), activation='relu'))\n",
    "model.add(BatchNormalization(input_shape=input_shape))\n",
    "model.add(Dropout(0.5))\n",
    "model.add(Conv2D(32, (2, 2), activation='relu'))\n",
    "model.add(BatchNormalization(input_shape=input_shape))\n",
    "model.add(Dropout(0.5))\n",
    "model.add(Conv2D(32, (2, 2), activation='relu'))\n",
    "model.add(MaxPooling2D(pool_size=(2, 2)))\n",
    "model.add(BatchNormalization())\n",
    "model.add(Dropout(0.5))\n",
    "\n",
    "model.add(Flatten()) \n",
    "model.add(Dense(10, activation='relu'))\n",
    "model.add(BatchNormalization())\n",
    "model.add(Dropout(0.5))\n",
    "model.add(Dense(10, activation='relu'))\n",
    "model.add(BatchNormalization())\n",
    "model.add(Dropout(0.5))\n",
    "model.add(Dense(10, activation='relu'))\n",
    "model.add(BatchNormalization())\n",
    "model.add(Dropout(0.5))\n",
    "model.add(Dense(output_shape, activation='sigmoid'))\n",
    "\n",
    "model.compile(\n",
    "    optimizer='adam',\n",
    "    loss='binary_crossentropy',\n",
    "    metrics=['accuracy'],\n",
    ")"
   ]
  },
  {
   "cell_type": "code",
   "execution_count": 3,
   "metadata": {},
   "outputs": [
    {
     "ename": "OSError",
     "evalue": "`pydot` failed to call GraphViz.Please install GraphViz (https://www.graphviz.org/) and ensure that its executables are in the $PATH.",
     "output_type": "error",
     "traceback": [
      "\u001b[1;31m---------------------------------------------------------------------------\u001b[0m",
      "\u001b[1;31mFileNotFoundError\u001b[0m                         Traceback (most recent call last)",
      "\u001b[1;32mC:\\ProgramData\\Anaconda3\\lib\\site-packages\\pydot.py\u001b[0m in \u001b[0;36mcreate\u001b[1;34m(self, prog, format, encoding)\u001b[0m\n\u001b[0;32m   1914\u001b[0m                 \u001b[0marguments\u001b[0m\u001b[1;33m=\u001b[0m\u001b[0marguments\u001b[0m\u001b[1;33m,\u001b[0m\u001b[1;33m\u001b[0m\u001b[1;33m\u001b[0m\u001b[0m\n\u001b[1;32m-> 1915\u001b[1;33m                 \u001b[0mworking_dir\u001b[0m\u001b[1;33m=\u001b[0m\u001b[0mtmp_dir\u001b[0m\u001b[1;33m,\u001b[0m\u001b[1;33m\u001b[0m\u001b[1;33m\u001b[0m\u001b[0m\n\u001b[0m\u001b[0;32m   1916\u001b[0m             )\n",
      "\u001b[1;32mC:\\ProgramData\\Anaconda3\\lib\\site-packages\\pydot.py\u001b[0m in \u001b[0;36mcall_graphviz\u001b[1;34m(program, arguments, working_dir, **kwargs)\u001b[0m\n\u001b[0;32m    135\u001b[0m         \u001b[0mstdout\u001b[0m\u001b[1;33m=\u001b[0m\u001b[0msubprocess\u001b[0m\u001b[1;33m.\u001b[0m\u001b[0mPIPE\u001b[0m\u001b[1;33m,\u001b[0m\u001b[1;33m\u001b[0m\u001b[1;33m\u001b[0m\u001b[0m\n\u001b[1;32m--> 136\u001b[1;33m         \u001b[1;33m**\u001b[0m\u001b[0mkwargs\u001b[0m\u001b[1;33m\u001b[0m\u001b[1;33m\u001b[0m\u001b[0m\n\u001b[0m\u001b[0;32m    137\u001b[0m     )\n",
      "\u001b[1;32mC:\\ProgramData\\Anaconda3\\lib\\subprocess.py\u001b[0m in \u001b[0;36m__init__\u001b[1;34m(self, args, bufsize, executable, stdin, stdout, stderr, preexec_fn, close_fds, shell, cwd, env, universal_newlines, startupinfo, creationflags, restore_signals, start_new_session, pass_fds, encoding, errors, text)\u001b[0m\n\u001b[0;32m    774\u001b[0m                                 \u001b[0merrread\u001b[0m\u001b[1;33m,\u001b[0m \u001b[0merrwrite\u001b[0m\u001b[1;33m,\u001b[0m\u001b[1;33m\u001b[0m\u001b[1;33m\u001b[0m\u001b[0m\n\u001b[1;32m--> 775\u001b[1;33m                                 restore_signals, start_new_session)\n\u001b[0m\u001b[0;32m    776\u001b[0m         \u001b[1;32mexcept\u001b[0m\u001b[1;33m:\u001b[0m\u001b[1;33m\u001b[0m\u001b[1;33m\u001b[0m\u001b[0m\n",
      "\u001b[1;32mC:\\ProgramData\\Anaconda3\\lib\\subprocess.py\u001b[0m in \u001b[0;36m_execute_child\u001b[1;34m(self, args, executable, preexec_fn, close_fds, pass_fds, cwd, env, startupinfo, creationflags, shell, p2cread, p2cwrite, c2pread, c2pwrite, errread, errwrite, unused_restore_signals, unused_start_new_session)\u001b[0m\n\u001b[0;32m   1177\u001b[0m                                          \u001b[0mos\u001b[0m\u001b[1;33m.\u001b[0m\u001b[0mfspath\u001b[0m\u001b[1;33m(\u001b[0m\u001b[0mcwd\u001b[0m\u001b[1;33m)\u001b[0m \u001b[1;32mif\u001b[0m \u001b[0mcwd\u001b[0m \u001b[1;32mis\u001b[0m \u001b[1;32mnot\u001b[0m \u001b[1;32mNone\u001b[0m \u001b[1;32melse\u001b[0m \u001b[1;32mNone\u001b[0m\u001b[1;33m,\u001b[0m\u001b[1;33m\u001b[0m\u001b[1;33m\u001b[0m\u001b[0m\n\u001b[1;32m-> 1178\u001b[1;33m                                          startupinfo)\n\u001b[0m\u001b[0;32m   1179\u001b[0m             \u001b[1;32mfinally\u001b[0m\u001b[1;33m:\u001b[0m\u001b[1;33m\u001b[0m\u001b[1;33m\u001b[0m\u001b[0m\n",
      "\u001b[1;31mFileNotFoundError\u001b[0m: [WinError 2] The system cannot find the file specified",
      "\nDuring handling of the above exception, another exception occurred:\n",
      "\u001b[1;31mFileNotFoundError\u001b[0m                         Traceback (most recent call last)",
      "\u001b[1;32mC:\\ProgramData\\Anaconda3\\lib\\site-packages\\keras\\utils\\vis_utils.py\u001b[0m in \u001b[0;36m_check_pydot\u001b[1;34m()\u001b[0m\n\u001b[0;32m     27\u001b[0m         \u001b[1;31m# to check the pydot/graphviz installation.\u001b[0m\u001b[1;33m\u001b[0m\u001b[1;33m\u001b[0m\u001b[1;33m\u001b[0m\u001b[0m\n\u001b[1;32m---> 28\u001b[1;33m         \u001b[0mpydot\u001b[0m\u001b[1;33m.\u001b[0m\u001b[0mDot\u001b[0m\u001b[1;33m.\u001b[0m\u001b[0mcreate\u001b[0m\u001b[1;33m(\u001b[0m\u001b[0mpydot\u001b[0m\u001b[1;33m.\u001b[0m\u001b[0mDot\u001b[0m\u001b[1;33m(\u001b[0m\u001b[1;33m)\u001b[0m\u001b[1;33m)\u001b[0m\u001b[1;33m\u001b[0m\u001b[1;33m\u001b[0m\u001b[0m\n\u001b[0m\u001b[0;32m     29\u001b[0m     \u001b[1;32mexcept\u001b[0m \u001b[0mOSError\u001b[0m\u001b[1;33m:\u001b[0m\u001b[1;33m\u001b[0m\u001b[1;33m\u001b[0m\u001b[0m\n",
      "\u001b[1;32mC:\\ProgramData\\Anaconda3\\lib\\site-packages\\pydot.py\u001b[0m in \u001b[0;36mcreate\u001b[1;34m(self, prog, format, encoding)\u001b[0m\n\u001b[0;32m   1921\u001b[0m                     prog=prog)\n\u001b[1;32m-> 1922\u001b[1;33m                 \u001b[1;32mraise\u001b[0m \u001b[0mOSError\u001b[0m\u001b[1;33m(\u001b[0m\u001b[1;33m*\u001b[0m\u001b[0margs\u001b[0m\u001b[1;33m)\u001b[0m\u001b[1;33m\u001b[0m\u001b[1;33m\u001b[0m\u001b[0m\n\u001b[0m\u001b[0;32m   1923\u001b[0m             \u001b[1;32melse\u001b[0m\u001b[1;33m:\u001b[0m\u001b[1;33m\u001b[0m\u001b[1;33m\u001b[0m\u001b[0m\n",
      "\u001b[1;31mFileNotFoundError\u001b[0m: [WinError 2] \"dot\" not found in path.",
      "\nDuring handling of the above exception, another exception occurred:\n",
      "\u001b[1;31mOSError\u001b[0m                                   Traceback (most recent call last)",
      "\u001b[1;32m<ipython-input-3-55e51cbbc945>\u001b[0m in \u001b[0;36m<module>\u001b[1;34m\u001b[0m\n\u001b[0;32m      2\u001b[0m \u001b[1;32mfrom\u001b[0m \u001b[0mIPython\u001b[0m\u001b[1;33m.\u001b[0m\u001b[0mdisplay\u001b[0m \u001b[1;32mimport\u001b[0m \u001b[0mImage\u001b[0m \u001b[1;32mas\u001b[0m \u001b[0mim\u001b[0m\u001b[1;33m\u001b[0m\u001b[1;33m\u001b[0m\u001b[0m\n\u001b[0;32m      3\u001b[0m \u001b[1;33m\u001b[0m\u001b[0m\n\u001b[1;32m----> 4\u001b[1;33m \u001b[0mdata\u001b[0m\u001b[1;33m=\u001b[0m \u001b[0mplot_model\u001b[0m\u001b[1;33m(\u001b[0m\u001b[0mmodel\u001b[0m\u001b[1;33m,\u001b[0m \u001b[0mshow_shapes\u001b[0m\u001b[1;33m=\u001b[0m\u001b[1;32mTrue\u001b[0m\u001b[1;33m,\u001b[0m \u001b[0mshow_layer_names\u001b[0m\u001b[1;33m=\u001b[0m\u001b[1;32mTrue\u001b[0m\u001b[1;33m)\u001b[0m\u001b[1;33m\u001b[0m\u001b[1;33m\u001b[0m\u001b[0m\n\u001b[0m\u001b[0;32m      5\u001b[0m \u001b[0mim\u001b[0m\u001b[1;33m(\u001b[0m\u001b[1;34m'model.png'\u001b[0m\u001b[1;33m)\u001b[0m\u001b[1;33m\u001b[0m\u001b[1;33m\u001b[0m\u001b[0m\n",
      "\u001b[1;32mC:\\ProgramData\\Anaconda3\\lib\\site-packages\\keras\\utils\\vis_utils.py\u001b[0m in \u001b[0;36mplot_model\u001b[1;34m(model, to_file, show_shapes, show_layer_names, rankdir, expand_nested, dpi)\u001b[0m\n\u001b[0;32m    238\u001b[0m     \"\"\"\n\u001b[0;32m    239\u001b[0m     dot = model_to_dot(model, show_shapes, show_layer_names, rankdir,\n\u001b[1;32m--> 240\u001b[1;33m                        expand_nested, dpi)\n\u001b[0m\u001b[0;32m    241\u001b[0m     \u001b[0m_\u001b[0m\u001b[1;33m,\u001b[0m \u001b[0mextension\u001b[0m \u001b[1;33m=\u001b[0m \u001b[0mos\u001b[0m\u001b[1;33m.\u001b[0m\u001b[0mpath\u001b[0m\u001b[1;33m.\u001b[0m\u001b[0msplitext\u001b[0m\u001b[1;33m(\u001b[0m\u001b[0mto_file\u001b[0m\u001b[1;33m)\u001b[0m\u001b[1;33m\u001b[0m\u001b[1;33m\u001b[0m\u001b[0m\n\u001b[0;32m    242\u001b[0m     \u001b[1;32mif\u001b[0m \u001b[1;32mnot\u001b[0m \u001b[0mextension\u001b[0m\u001b[1;33m:\u001b[0m\u001b[1;33m\u001b[0m\u001b[1;33m\u001b[0m\u001b[0m\n",
      "\u001b[1;32mC:\\ProgramData\\Anaconda3\\lib\\site-packages\\keras\\utils\\vis_utils.py\u001b[0m in \u001b[0;36mmodel_to_dot\u001b[1;34m(model, show_shapes, show_layer_names, rankdir, expand_nested, dpi, subgraph)\u001b[0m\n\u001b[0;32m     77\u001b[0m     \u001b[1;32mfrom\u001b[0m \u001b[1;33m.\u001b[0m\u001b[1;33m.\u001b[0m\u001b[0mmodels\u001b[0m \u001b[1;32mimport\u001b[0m \u001b[0mSequential\u001b[0m\u001b[1;33m\u001b[0m\u001b[1;33m\u001b[0m\u001b[0m\n\u001b[0;32m     78\u001b[0m \u001b[1;33m\u001b[0m\u001b[0m\n\u001b[1;32m---> 79\u001b[1;33m     \u001b[0m_check_pydot\u001b[0m\u001b[1;33m(\u001b[0m\u001b[1;33m)\u001b[0m\u001b[1;33m\u001b[0m\u001b[1;33m\u001b[0m\u001b[0m\n\u001b[0m\u001b[0;32m     80\u001b[0m     \u001b[1;32mif\u001b[0m \u001b[0msubgraph\u001b[0m\u001b[1;33m:\u001b[0m\u001b[1;33m\u001b[0m\u001b[1;33m\u001b[0m\u001b[0m\n\u001b[0;32m     81\u001b[0m         \u001b[0mdot\u001b[0m \u001b[1;33m=\u001b[0m \u001b[0mpydot\u001b[0m\u001b[1;33m.\u001b[0m\u001b[0mCluster\u001b[0m\u001b[1;33m(\u001b[0m\u001b[0mstyle\u001b[0m\u001b[1;33m=\u001b[0m\u001b[1;34m'dashed'\u001b[0m\u001b[1;33m,\u001b[0m \u001b[0mgraph_name\u001b[0m\u001b[1;33m=\u001b[0m\u001b[0mmodel\u001b[0m\u001b[1;33m.\u001b[0m\u001b[0mname\u001b[0m\u001b[1;33m)\u001b[0m\u001b[1;33m\u001b[0m\u001b[1;33m\u001b[0m\u001b[0m\n",
      "\u001b[1;32mC:\\ProgramData\\Anaconda3\\lib\\site-packages\\keras\\utils\\vis_utils.py\u001b[0m in \u001b[0;36m_check_pydot\u001b[1;34m()\u001b[0m\n\u001b[0;32m     29\u001b[0m     \u001b[1;32mexcept\u001b[0m \u001b[0mOSError\u001b[0m\u001b[1;33m:\u001b[0m\u001b[1;33m\u001b[0m\u001b[1;33m\u001b[0m\u001b[0m\n\u001b[0;32m     30\u001b[0m         raise OSError(\n\u001b[1;32m---> 31\u001b[1;33m             \u001b[1;34m'`pydot` failed to call GraphViz.'\u001b[0m\u001b[1;33m\u001b[0m\u001b[1;33m\u001b[0m\u001b[0m\n\u001b[0m\u001b[0;32m     32\u001b[0m             \u001b[1;34m'Please install GraphViz (https://www.graphviz.org/) '\u001b[0m\u001b[1;33m\u001b[0m\u001b[1;33m\u001b[0m\u001b[0m\n\u001b[0;32m     33\u001b[0m             'and ensure that its executables are in the $PATH.')\n",
      "\u001b[1;31mOSError\u001b[0m: `pydot` failed to call GraphViz.Please install GraphViz (https://www.graphviz.org/) and ensure that its executables are in the $PATH."
     ]
    }
   ],
   "source": [
    "from keras.utils.vis_utils import plot_model\n",
    "from IPython.display import Image as im\n",
    "\n",
    "data= plot_model(model, show_shapes=True, show_layer_names=True)\n",
    "im('model.png')"
   ]
  },
  {
   "cell_type": "markdown",
   "metadata": {},
   "source": [
    "## Treinamento inicial"
   ]
  },
  {
   "cell_type": "code",
   "execution_count": 9,
   "metadata": {},
   "outputs": [
    {
     "name": "stdout",
     "output_type": "stream",
     "text": [
      "Train on 14151 samples, validate on 6604 samples\n",
      "Epoch 1/20\n",
      "14151/14151 [==============================] - 25s 2ms/step - loss: 0.7274 - accuracy: 0.5988 - val_loss: 0.7152 - val_accuracy: 0.5227\n",
      "\n",
      "Epoch 00001: val_accuracy improved from -inf to 0.52271, saving model to models/gênero_0.599-0.523-01.h5\n",
      "Epoch 2/20\n",
      "14151/14151 [==============================] - 23s 2ms/step - loss: 0.5729 - accuracy: 0.7071 - val_loss: 0.5400 - val_accuracy: 0.6884\n",
      "\n",
      "Epoch 00002: val_accuracy improved from 0.52271 to 0.68837, saving model to models/gênero_0.707-0.688-02.h5\n",
      "Epoch 3/20\n",
      "14151/14151 [==============================] - 24s 2ms/step - loss: 0.5103 - accuracy: 0.7634 - val_loss: 0.9080 - val_accuracy: 0.5531\n",
      "\n",
      "Epoch 00003: val_accuracy did not improve from 0.68837\n",
      "Epoch 4/20\n",
      "14151/14151 [==============================] - 24s 2ms/step - loss: 0.4665 - accuracy: 0.7970 - val_loss: 0.4263 - val_accuracy: 0.7815\n",
      "\n",
      "Epoch 00004: val_accuracy improved from 0.68837 to 0.78150, saving model to models/gênero_0.797-0.781-04.h5\n",
      "Epoch 5/20\n",
      "14151/14151 [==============================] - 24s 2ms/step - loss: 0.4473 - accuracy: 0.8106 - val_loss: 0.3702 - val_accuracy: 0.8307\n",
      "\n",
      "Epoch 00005: val_accuracy improved from 0.78150 to 0.83071, saving model to models/gênero_0.811-0.831-05.h5\n",
      "Epoch 6/20\n",
      "14151/14151 [==============================] - 24s 2ms/step - loss: 0.4192 - accuracy: 0.8228 - val_loss: 0.4006 - val_accuracy: 0.8113\n",
      "\n",
      "Epoch 00006: val_accuracy did not improve from 0.83071\n",
      "Epoch 7/20\n",
      "14151/14151 [==============================] - 24s 2ms/step - loss: 0.3964 - accuracy: 0.8383 - val_loss: 0.3243 - val_accuracy: 0.8645\n",
      "\n",
      "Epoch 00007: val_accuracy improved from 0.83071 to 0.86448, saving model to models/gênero_0.838-0.864-07.h5\n",
      "Epoch 8/20\n",
      "14151/14151 [==============================] - 24s 2ms/step - loss: 0.3886 - accuracy: 0.8417 - val_loss: 0.3371 - val_accuracy: 0.8484\n",
      "\n",
      "Epoch 00008: val_accuracy did not improve from 0.86448\n",
      "Epoch 9/20\n",
      "14151/14151 [==============================] - 24s 2ms/step - loss: 0.3769 - accuracy: 0.8477 - val_loss: 0.3613 - val_accuracy: 0.8363\n",
      "\n",
      "Epoch 00009: val_accuracy did not improve from 0.86448\n",
      "Epoch 10/20\n",
      "14151/14151 [==============================] - 24s 2ms/step - loss: 0.3756 - accuracy: 0.8502 - val_loss: 0.3208 - val_accuracy: 0.8560\n",
      "\n",
      "Epoch 00010: val_accuracy did not improve from 0.86448\n",
      "Epoch 11/20\n",
      "14151/14151 [==============================] - 24s 2ms/step - loss: 0.3647 - accuracy: 0.8522 - val_loss: 0.3513 - val_accuracy: 0.8445\n",
      "\n",
      "Epoch 00011: val_accuracy did not improve from 0.86448\n",
      "Epoch 12/20\n",
      "14151/14151 [==============================] - 24s 2ms/step - loss: 0.3647 - accuracy: 0.8553 - val_loss: 0.3006 - val_accuracy: 0.8734\n",
      "\n",
      "Epoch 00012: val_accuracy improved from 0.86448 to 0.87341, saving model to models/gênero_0.855-0.873-12.h5\n",
      "Epoch 13/20\n",
      "14151/14151 [==============================] - 23s 2ms/step - loss: 0.3402 - accuracy: 0.8672 - val_loss: 0.3163 - val_accuracy: 0.8637\n",
      "\n",
      "Epoch 00013: val_accuracy did not improve from 0.87341\n",
      "Epoch 14/20\n",
      "14151/14151 [==============================] - 24s 2ms/step - loss: 0.3324 - accuracy: 0.8723 - val_loss: 0.2912 - val_accuracy: 0.8748\n",
      "\n",
      "Epoch 00014: val_accuracy improved from 0.87341 to 0.87477, saving model to models/gênero_0.872-0.875-14.h5\n",
      "Epoch 15/20\n",
      "14151/14151 [==============================] - 24s 2ms/step - loss: 0.3357 - accuracy: 0.8710 - val_loss: 0.2836 - val_accuracy: 0.8772\n",
      "\n",
      "Epoch 00015: val_accuracy improved from 0.87477 to 0.87720, saving model to models/gênero_0.871-0.877-15.h5\n",
      "Epoch 16/20\n",
      "14151/14151 [==============================] - 24s 2ms/step - loss: 0.3295 - accuracy: 0.8723 - val_loss: 0.2852 - val_accuracy: 0.8763\n",
      "\n",
      "Epoch 00016: val_accuracy did not improve from 0.87720\n",
      "Epoch 17/20\n",
      "14151/14151 [==============================] - 24s 2ms/step - loss: 0.3212 - accuracy: 0.8758 - val_loss: 0.3266 - val_accuracy: 0.8546\n",
      "\n",
      "Epoch 00017: val_accuracy did not improve from 0.87720\n",
      "Epoch 18/20\n",
      "14151/14151 [==============================] - 24s 2ms/step - loss: 0.3061 - accuracy: 0.8831 - val_loss: 0.2761 - val_accuracy: 0.8790\n",
      "\n",
      "Epoch 00018: val_accuracy improved from 0.87720 to 0.87901, saving model to models/gênero_0.883-0.879-18.h5\n",
      "Epoch 19/20\n",
      "14151/14151 [==============================] - 24s 2ms/step - loss: 0.3078 - accuracy: 0.8864 - val_loss: 0.2953 - val_accuracy: 0.8587\n",
      "\n",
      "Epoch 00019: val_accuracy did not improve from 0.87901\n",
      "Epoch 20/20\n",
      "14151/14151 [==============================] - 24s 2ms/step - loss: 0.3050 - accuracy: 0.8837 - val_loss: 0.2721 - val_accuracy: 0.8793\n",
      "\n",
      "Epoch 00020: val_accuracy improved from 0.87901 to 0.87932, saving model to models/gênero_0.884-0.879-20.h5\n"
     ]
    }
   ],
   "source": [
    "from keras.callbacks import EarlyStopping, ModelCheckpoint\n",
    "\n",
    "callbacks = [\n",
    "    ModelCheckpoint(\n",
    "        model_path+model_name+'_{accuracy:.3f}-{val_accuracy:.3f}-{epoch:02d}.h5',\n",
    "        monitor='val_accuracy',\n",
    "        verbose=1,\n",
    "        save_best_only=True),\n",
    "    EarlyStopping('val_accuracy',patience = patience),\n",
    "]\n",
    "\n",
    "history = model.fit(\n",
    "        x = X_train,y=y_train,\n",
    "        epochs=n_epochs,\n",
    "        validation_data=(X_val,y_val),\n",
    "        callbacks=callbacks\n",
    ")"
   ]
  },
  {
   "cell_type": "code",
   "execution_count": 11,
   "metadata": {},
   "outputs": [
    {
     "data": {
      "image/png": "[encoded data removed]",
      "text/plain": [
       "<Figure size 432x288 with 1 Axes>"
      ]
     },
     "metadata": {
      "needs_background": "light"
     },
     "output_type": "display_data"
    }
   ],
   "source": [
    "import matplotlib.pyplot as plt \n",
    "\n",
    "plt.plot(history.history['accuracy'])\n",
    "plt.plot(history.history['val_accuracy'])\n",
    "plt.title('Accuracy x época')\n",
    "plt.ylabel('Accuracy')\n",
    "plt.xlabel('Época')\n",
    "plt.legend(['Treinamento', 'Validação'], loc='upper left')\n",
    "plt.show()"
   ]
  },
  {
   "cell_type": "markdown",
   "metadata": {},
   "source": [
    "## Selecionando o melhor modelo"
   ]
  },
  {
   "cell_type": "code",
   "execution_count": 12,
   "metadata": {},
   "outputs": [],
   "source": [
    "from keras.models import load_model\n",
    "\n",
    "model = load_model('models/gênero_0.872-0.875-14.h5')"
   ]
  },
  {
   "cell_type": "markdown",
   "metadata": {},
   "source": [
    "## Ajustando o treinamento com o dataset de validação"
   ]
  },
  {
   "cell_type": "code",
   "execution_count": 13,
   "metadata": {
    "scrolled": true
   },
   "outputs": [
    {
     "name": "stdout",
     "output_type": "stream",
     "text": [
      "Epoch 1/1\n",
      "6604/6604 [==============================] - 11s 2ms/step - loss: 0.3865 - accuracy: 0.8452\n"
     ]
    },
    {
     "data": {
      "text/plain": [
       "<keras.callbacks.callbacks.History at 0x205fede3c08>"
      ]
     },
     "execution_count": 13,
     "metadata": {},
     "output_type": "execute_result"
    }
   ],
   "source": [
    "from keras.models import load_model\n",
    "model.fit(\n",
    "    x = X_val,\n",
    "    y=y_val,\n",
    "    epochs=1,\n",
    ")"
   ]
  },
  {
   "cell_type": "markdown",
   "metadata": {},
   "source": [
    "## Testando contra o dataset de teste\n"
   ]
  },
  {
   "cell_type": "code",
   "execution_count": 14,
   "metadata": {},
   "outputs": [],
   "source": [
    "X_test, y_test = load_data('test')"
   ]
  },
  {
   "cell_type": "markdown",
   "metadata": {},
   "source": [
    "#### Juntando dados de treinamento e validação em um único dataset para comparação"
   ]
  },
  {
   "cell_type": "code",
   "execution_count": 15,
   "metadata": {},
   "outputs": [],
   "source": [
    "X_train = np.append(X_train,X_val,axis=0)\n",
    "y_train = np.append(y_train,y_val,axis=0)\n",
    "\n",
    "del X_val, y_val"
   ]
  },
  {
   "cell_type": "code",
   "execution_count": 16,
   "metadata": {},
   "outputs": [
    {
     "name": "stdout",
     "output_type": "stream",
     "text": [
      "20755/20755 [==============================] - 9s 412us/step\n",
      "2831/2831 [==============================] - 1s 422us/step\n",
      "CNN:\n",
      "ACC treinamento 0.89\n",
      "ACC teste 0.878\n"
     ]
    }
   ],
   "source": [
    "acc_train = model.evaluate(x=X_train, y=y_train, verbose=1)[1]\n",
    "acc_test = model.evaluate(x=X_test, y=y_test, verbose=1)[1]\n",
    "\n",
    "print('CNN:')\n",
    "print(\"ACC treinamento\", np.round(acc_train,3))\n",
    "print(\"ACC teste\", np.round(acc_test,3))"
   ]
  },
  {
   "cell_type": "markdown",
   "metadata": {},
   "source": [
    "#### Comparando com modelos dummy\n",
    "\n",
    "- Estragégia dummy 1: chutar sempre a maioria <br>\n",
    "- Estragégia dummy 2: chute aleatório"
   ]
  },
  {
   "cell_type": "code",
   "execution_count": 17,
   "metadata": {},
   "outputs": [
    {
     "data": {
      "text/plain": [
       "(array([0, 1]), array([10845,  9910], dtype=int64))"
      ]
     },
     "execution_count": 17,
     "metadata": {},
     "output_type": "execute_result"
    }
   ],
   "source": [
    "np.unique(y_train, return_counts=True)"
   ]
  },
  {
   "cell_type": "code",
   "execution_count": 18,
   "metadata": {},
   "outputs": [
    {
     "name": "stdout",
     "output_type": "stream",
     "text": [
      "Estratégia 1 (maioria):\n",
      "ACC treinamento 0.523\n",
      "ACC teste 0.522\n",
      "\n",
      "Estratégia 2 (aleatório):\n",
      "ACC treinamento 0.499\n",
      "ACC teste 0.514\n",
      "\n"
     ]
    }
   ],
   "source": [
    "from sklearn.metrics import accuracy_score\n",
    "\n",
    "def evaluate(train_pred,test_pred):\n",
    "    \n",
    "    acc_train = accuracy_score(y_train,train_predictions)\n",
    "    acc_test = accuracy_score(y_test,test_predictions)\n",
    "    \n",
    "    print(\"ACC treinamento\", np.round(acc_train,3))\n",
    "    print(\"ACC teste\", np.round(acc_test,3))\n",
    "    print()\n",
    "    \n",
    "    \n",
    "most_frequent = 0\n",
    "train_predictions = [most_frequent] * y_train.shape[0]\n",
    "test_predictions = [most_frequent] * y_test.shape[0]\n",
    "print('Estratégia 1 (maioria):')\n",
    "evaluate(train_predictions,test_predictions)\n",
    "\n",
    "train_predictions = [np.random.randint(0,2) for i in range(y_train.shape[0])]\n",
    "test_predictions = [np.random.randint(0,2) for i in range(y_test.shape[0])]\n",
    "print('Estratégia 2 (aleatório):')\n",
    "evaluate(train_predictions,test_predictions)"
   ]
  },
  {
   "cell_type": "markdown",
   "metadata": {},
   "source": [
    "## Ajustando o treinamento com o dataset de teste"
   ]
  },
  {
   "cell_type": "code",
   "execution_count": 19,
   "metadata": {},
   "outputs": [
    {
     "name": "stdout",
     "output_type": "stream",
     "text": [
      "Epoch 1/1\n",
      "2831/2831 [==============================] - 4s 2ms/step - loss: 0.3758 - accuracy: 0.8463\n"
     ]
    },
    {
     "data": {
      "text/plain": [
       "<keras.callbacks.callbacks.History at 0x205fb0b2948>"
      ]
     },
     "execution_count": 19,
     "metadata": {},
     "output_type": "execute_result"
    }
   ],
   "source": [
    "model.fit(\n",
    "    x = X_test,y=y_test,\n",
    "    epochs=1,\n",
    ")"
   ]
  },
  {
   "cell_type": "markdown",
   "metadata": {},
   "source": [
    "## Salvando o modelo final"
   ]
  },
  {
   "cell_type": "code",
   "execution_count": 20,
   "metadata": {},
   "outputs": [],
   "source": [
    "model.save(model_path + model_name + '_final.h5')"
   ]
  }
 ],
 "metadata": {
  "kernelspec": {
   "display_name": "Python 3",
   "language": "python",
   "name": "python3"
  },
  "language_info": {
   "codemirror_mode": {
    "name": "ipython",
    "version": 3
   },
   "file_extension": ".py",
   "mimetype": "text/x-python",
   "name": "python",
   "nbconvert_exporter": "python",
   "pygments_lexer": "ipython3",
   "version": "3.7.4"
  }
 },
 "nbformat": 4,
 "nbformat_minor": 2
}
