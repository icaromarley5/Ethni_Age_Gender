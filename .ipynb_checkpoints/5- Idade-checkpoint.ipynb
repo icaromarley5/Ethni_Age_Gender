{
 "cells": [
  {
   "cell_type": "markdown",
   "metadata": {},
   "source": [
    "# Rede neural para idade"
   ]
  },
  {
   "cell_type": "markdown",
   "metadata": {},
   "source": [
    "## Configurando o treinamento"
   ]
  },
  {
   "cell_type": "code",
   "execution_count": 5,
   "metadata": {},
   "outputs": [],
   "source": [
    "import numpy as np \n",
    "\n",
    "model_path = 'models/'\n",
    "data_dir = 'data/'\n",
    "data_path = data_dir + 'train_test/'\n",
    "\n",
    "model_name = 'idade'\n",
    "\n",
    "n_epochs = 50\n",
    "patience = 5\n",
    "input_shape = (75,75,1)\n",
    "output_shape = 1"
   ]
  },
  {
   "cell_type": "markdown",
   "metadata": {},
   "source": [
    "## Carregando os dados"
   ]
  },
  {
   "cell_type": "code",
   "execution_count": 3,
   "metadata": {},
   "outputs": [],
   "source": [
    "from PIL import Image\n",
    "import os \n",
    "\n",
    "def load_data(data_type):\n",
    "    \n",
    "    if data_type == 'train':\n",
    "        data_tag = '0'\n",
    "    elif data_type == 'valid':\n",
    "        data_tag = '1'\n",
    "    else:\n",
    "        data_tag = '2'\n",
    "        \n",
    "    files = os.listdir(data_path)    \n",
    "    files = [file for file in files if file.split('.')[0] == data_tag]\n",
    "    \n",
    "    y = np.array([int(file.split('.')[3].split('_')[0]) for file in files])\n",
    "    \n",
    "    files = [data_path + file for file in files] \n",
    "    x = [np.array(Image.open(file)) for file in files]\n",
    "    x = [(image - image.min())/(image.max()-image.min()) for image in x]\n",
    "    x = np.expand_dims(x, axis=3)\n",
    "    \n",
    "    return x,y"
   ]
  },
  {
   "cell_type": "code",
   "execution_count": 4,
   "metadata": {},
   "outputs": [],
   "source": [
    "X_train, y_train = load_data('train')\n",
    "X_val, y_val = load_data('valid')"
   ]
  },
  {
   "cell_type": "markdown",
   "metadata": {},
   "source": [
    "## A rede neural"
   ]
  },
  {
   "cell_type": "code",
   "execution_count": 6,
   "metadata": {},
   "outputs": [
    {
     "name": "stdout",
     "output_type": "stream",
     "text": [
      "WARNING:tensorflow:From C:\\ProgramData\\Anaconda3\\lib\\site-packages\\tensorflow\\python\\ops\\resource_variable_ops.py:435: colocate_with (from tensorflow.python.framework.ops) is deprecated and will be removed in a future version.\n",
      "Instructions for updating:\n",
      "Colocations handled automatically by placer.\n"
     ]
    }
   ],
   "source": [
    "from keras.layers.normalization import BatchNormalization\n",
    "from keras.models import Sequential\n",
    "from keras.layers import Conv2D, MaxPooling2D,Dropout, Flatten, Dense\n",
    "\n",
    "model = Sequential()\n",
    "model.add(Conv2D(64, (2, 2), activation='relu'))\n",
    "model.add(BatchNormalization(input_shape=input_shape))\n",
    "model.add(Conv2D(64, (2, 2), activation='relu'))\n",
    "model.add(BatchNormalization(input_shape=input_shape))\n",
    "model.add(Conv2D(64, (2, 2), activation='relu'))\n",
    "model.add(MaxPooling2D(pool_size=(2, 2)))\n",
    "model.add(BatchNormalization(input_shape=input_shape))\n",
    "model.add(Dropout(0.2))\n",
    "\n",
    "model.add(Conv2D(64, (2, 2), activation='relu'))\n",
    "model.add(BatchNormalization(input_shape=input_shape))\n",
    "model.add(Conv2D(64, (2, 2), activation='relu'))\n",
    "model.add(BatchNormalization(input_shape=input_shape))\n",
    "model.add(Conv2D(64, (2, 2), activation='relu'))\n",
    "model.add(MaxPooling2D(pool_size=(2, 2)))\n",
    "model.add(BatchNormalization(input_shape=input_shape))\n",
    "model.add(Dropout(0.2))\n",
    "\n",
    "model.add(Flatten()) \n",
    "model.add(Dense(100, activation='relu'))\n",
    "model.add(BatchNormalization(input_shape=input_shape))\n",
    "model.add(Dense(100, activation='relu'))\n",
    "model.add(BatchNormalization(input_shape=input_shape))\n",
    "model.add(Dropout(0.2))\n",
    "model.add(Dense(output_shape, activation='relu'))\n",
    "\n",
    "model.compile(\n",
    "    optimizer='adam',\n",
    "    loss='mean_squared_error',\n",
    ")"
   ]
  },
  {
   "cell_type": "code",
   "execution_count": 7,
   "metadata": {},
   "outputs": [
    {
     "data": {
      "image/png": "[encoded data removed]",
      "text/plain": [
       "<IPython.core.display.Image object>"
      ]
     },
     "execution_count": 7,
     "metadata": {},
     "output_type": "execute_result"
    }
   ],
   "source": [
    "from keras.utils.vis_utils import plot_model\n",
    "from IPython.display import Image as im\n",
    "\n",
    "data= plot_model(model, show_shapes=True, show_layer_names=True)\n",
    "im('model.png')"
   ]
  },
  {
   "cell_type": "markdown",
   "metadata": {},
   "source": [
    "## Treinamento inicial"
   ]
  },
  {
   "cell_type": "code",
   "execution_count": 6,
   "metadata": {},
   "outputs": [
    {
     "name": "stdout",
     "output_type": "stream",
     "text": [
      "Train on 14151 samples, validate on 6604 samples\n",
      "Epoch 1/50\n",
      "14151/14151 [==============================] - 50s 4ms/step - loss: 520.6254 - val_loss: 264.8247\n",
      "\n",
      "Epoch 00001: val_loss improved from inf to 264.82473, saving model to models/idade_520.625-264.825-01.h5\n",
      "Epoch 2/50\n",
      "14151/14151 [==============================] - 46s 3ms/step - loss: 174.7867 - val_loss: 286.8507\n",
      "\n",
      "Epoch 00002: val_loss did not improve from 264.82473\n",
      "Epoch 3/50\n",
      "14151/14151 [==============================] - 45s 3ms/step - loss: 116.6139 - val_loss: 110.8252\n",
      "\n",
      "Epoch 00003: val_loss improved from 264.82473 to 110.82515, saving model to models/idade_116.614-110.825-03.h5\n",
      "Epoch 4/50\n",
      "14151/14151 [==============================] - 45s 3ms/step - loss: 101.1956 - val_loss: 97.4063\n",
      "\n",
      "Epoch 00004: val_loss improved from 110.82515 to 97.40629, saving model to models/idade_101.196-97.406-04.h5\n",
      "Epoch 5/50\n",
      "14151/14151 [==============================] - 45s 3ms/step - loss: 93.1042 - val_loss: 87.6900\n",
      "\n",
      "Epoch 00005: val_loss improved from 97.40629 to 87.68996, saving model to models/idade_93.104-87.690-05.h5\n",
      "Epoch 6/50\n",
      "14151/14151 [==============================] - 45s 3ms/step - loss: 80.0878 - val_loss: 93.0734\n",
      "\n",
      "Epoch 00006: val_loss did not improve from 87.68996\n",
      "Epoch 7/50\n",
      "14151/14151 [==============================] - 45s 3ms/step - loss: 76.6575 - val_loss: 108.3669\n",
      "\n",
      "Epoch 00007: val_loss did not improve from 87.68996\n",
      "Epoch 8/50\n",
      "14151/14151 [==============================] - 46s 3ms/step - loss: 67.4916 - val_loss: 112.4936\n",
      "\n",
      "Epoch 00008: val_loss did not improve from 87.68996\n",
      "Epoch 9/50\n",
      "14151/14151 [==============================] - 46s 3ms/step - loss: 83.6925 - val_loss: 85.0650\n",
      "\n",
      "Epoch 00009: val_loss improved from 87.68996 to 85.06496, saving model to models/idade_83.693-85.065-09.h5\n",
      "Epoch 10/50\n",
      "14151/14151 [==============================] - 46s 3ms/step - loss: 80.4081 - val_loss: 85.9314\n",
      "\n",
      "Epoch 00010: val_loss did not improve from 85.06496\n",
      "Epoch 11/50\n",
      "14151/14151 [==============================] - 46s 3ms/step - loss: 62.2114 - val_loss: 74.1451\n",
      "\n",
      "Epoch 00011: val_loss improved from 85.06496 to 74.14512, saving model to models/idade_62.211-74.145-11.h5\n",
      "Epoch 12/50\n",
      "14151/14151 [==============================] - 46s 3ms/step - loss: 52.9899 - val_loss: 72.9375\n",
      "\n",
      "Epoch 00012: val_loss improved from 74.14512 to 72.93753, saving model to models/idade_52.990-72.938-12.h5\n",
      "Epoch 13/50\n",
      "14151/14151 [==============================] - 46s 3ms/step - loss: 49.2014 - val_loss: 76.4446\n",
      "\n",
      "Epoch 00013: val_loss did not improve from 72.93753\n",
      "Epoch 14/50\n",
      "14151/14151 [==============================] - 46s 3ms/step - loss: 47.5699 - val_loss: 103.8175\n",
      "\n",
      "Epoch 00014: val_loss did not improve from 72.93753\n",
      "Epoch 15/50\n",
      "14151/14151 [==============================] - 46s 3ms/step - loss: 69.9089 - val_loss: 78.4948\n",
      "\n",
      "Epoch 00015: val_loss did not improve from 72.93753\n",
      "Epoch 16/50\n",
      "14151/14151 [==============================] - 46s 3ms/step - loss: 51.0217 - val_loss: 76.3745\n",
      "\n",
      "Epoch 00016: val_loss did not improve from 72.93753\n",
      "Epoch 17/50\n",
      "14151/14151 [==============================] - 45s 3ms/step - loss: 47.5639 - val_loss: 73.8073\n",
      "\n",
      "Epoch 00017: val_loss did not improve from 72.93753\n"
     ]
    }
   ],
   "source": [
    "from keras.callbacks import EarlyStopping, ModelCheckpoint\n",
    "\n",
    "callbacks = [\n",
    "    ModelCheckpoint(\n",
    "        model_path+model_name+'_{loss:.3f}-{val_loss:.3f}-{epoch:02d}.h5',\n",
    "        monitor='val_loss',\n",
    "        verbose=1,\n",
    "        save_best_only=True),\n",
    "    EarlyStopping('val_loss',patience = patience),\n",
    "]\n",
    "\n",
    "history = model.fit(\n",
    "        x = X_train,y=y_train,\n",
    "        epochs=n_epochs,\n",
    "        validation_data=(X_val,y_val),\n",
    "        callbacks=callbacks\n",
    ")"
   ]
  },
  {
   "cell_type": "code",
   "execution_count": 8,
   "metadata": {},
   "outputs": [
    {
     "data": {
      "image/png": "[encoded data removed]",
      "text/plain": [
       "<Figure size 432x288 with 1 Axes>"
      ]
     },
     "metadata": {
      "needs_background": "light"
     },
     "output_type": "display_data"
    }
   ],
   "source": [
    "import matplotlib.pyplot as plt \n",
    "\n",
    "plt.plot(history.history['loss'])\n",
    "plt.plot(history.history['val_loss'])\n",
    "plt.title('Accuracy x época')\n",
    "plt.ylabel('Mean Absolute Error')\n",
    "plt.xlabel('Época')\n",
    "plt.legend(['Treinamento', 'Validação'], loc='upper left')\n",
    "plt.show()"
   ]
  },
  {
   "cell_type": "markdown",
   "metadata": {},
   "source": [
    "## Selecionando o melhor modelo"
   ]
  },
  {
   "cell_type": "code",
   "execution_count": 9,
   "metadata": {},
   "outputs": [],
   "source": [
    "from keras.models import load_model\n",
    "\n",
    "model = load_model('models/idade_83.693-85.065-09.h5')"
   ]
  },
  {
   "cell_type": "markdown",
   "metadata": {},
   "source": [
    "## Ajustando o treinamento com o dataset de validação"
   ]
  },
  {
   "cell_type": "code",
   "execution_count": 10,
   "metadata": {
    "scrolled": true
   },
   "outputs": [
    {
     "name": "stdout",
     "output_type": "stream",
     "text": [
      "Epoch 1/1\n",
      "6604/6604 [==============================] - 21s 3ms/step - loss: 92.9518\n"
     ]
    },
    {
     "data": {
      "text/plain": [
       "<keras.callbacks.callbacks.History at 0x19abf061808>"
      ]
     },
     "execution_count": 10,
     "metadata": {},
     "output_type": "execute_result"
    }
   ],
   "source": [
    "from keras.models import load_model\n",
    "model.fit(\n",
    "    x = X_val,\n",
    "    y=y_val,\n",
    "    epochs=1,\n",
    ")"
   ]
  },
  {
   "cell_type": "markdown",
   "metadata": {},
   "source": [
    "## Testando contra o dataset de teste\n"
   ]
  },
  {
   "cell_type": "code",
   "execution_count": 11,
   "metadata": {},
   "outputs": [],
   "source": [
    "X_test, y_test = load_data('test')"
   ]
  },
  {
   "cell_type": "markdown",
   "metadata": {},
   "source": [
    "#### Juntando dados de treinamento e validação em um único dataset para comparação"
   ]
  },
  {
   "cell_type": "code",
   "execution_count": 12,
   "metadata": {},
   "outputs": [],
   "source": [
    "X_train = np.append(X_train,X_val,axis=0)\n",
    "y_train = np.append(y_train,y_val,axis=0)\n",
    "\n",
    "del X_val, y_val"
   ]
  },
  {
   "cell_type": "code",
   "execution_count": 13,
   "metadata": {},
   "outputs": [
    {
     "name": "stdout",
     "output_type": "stream",
     "text": [
      "20755/20755 [==============================] - 18s 849us/step\n",
      "2831/2831 [==============================] - 2s 871us/step\n",
      "CNN:\n",
      "MSE treinamento 52.877\n",
      "MSE teste 71.605\n"
     ]
    }
   ],
   "source": [
    "loss_train = model.evaluate(x=X_train, y=y_train, verbose=1)\n",
    "loss_test = model.evaluate(x=X_test, y=y_test, verbose=1)\n",
    "\n",
    "print('CNN:')\n",
    "print(\"MSE treinamento\", np.round(loss_train,3))\n",
    "print(\"MSE teste\", np.round(loss_test,3))"
   ]
  },
  {
   "cell_type": "markdown",
   "metadata": {},
   "source": [
    "#### Comparando com modelos dummy\n",
    "\n",
    "Estragégia dummy 1: chutar a média dos valores <br>\n",
    "Estragégia dummy 2: chute aleatório"
   ]
  },
  {
   "cell_type": "code",
   "execution_count": 15,
   "metadata": {},
   "outputs": [
    {
     "data": {
      "text/plain": [
       "(33.27569260419176, 116, 1)"
      ]
     },
     "execution_count": 15,
     "metadata": {},
     "output_type": "execute_result"
    }
   ],
   "source": [
    "np.mean(y_train),np.max(y_train),np.min(y_train)"
   ]
  },
  {
   "cell_type": "code",
   "execution_count": 16,
   "metadata": {},
   "outputs": [
    {
     "name": "stdout",
     "output_type": "stream",
     "text": [
      "Estratégia 1 (média):\n",
      "MSE treinamento 394.699\n",
      "MSE teste 402.053\n",
      "\n",
      "Estratégia 2 (aleatório):\n",
      "MSE treinamento 2172.281\n",
      "MSE teste 2163.496\n",
      "\n"
     ]
    }
   ],
   "source": [
    "from sklearn.metrics import mean_squared_error\n",
    "\n",
    "def evaluate(train_pred,test_pred):\n",
    "    \n",
    "    loss_train = mean_squared_error(y_train,train_predictions)\n",
    "    loss_test = mean_squared_error(y_test,test_predictions)\n",
    "    \n",
    "    print(\"MSE treinamento\", np.round(loss_train,3))\n",
    "    print(\"MSE teste\", np.round(loss_test,3))\n",
    "    print()\n",
    "    \n",
    "    \n",
    "mean = 33\n",
    "train_predictions = [mean] * y_train.shape[0]\n",
    "test_predictions = [mean] * y_test.shape[0]\n",
    "print('Estratégia 1 (média):')\n",
    "evaluate(train_predictions,test_predictions)\n",
    "\n",
    "y_max = 116\n",
    "y_min = 1\n",
    "train_predictions = [np.random.randint(y_min,y_max+1) for i in range(y_train.shape[0])]\n",
    "test_predictions = [np.random.randint(y_min,y_max+1) for i in range(y_test.shape[0])]\n",
    "print('Estratégia 2 (aleatório):')\n",
    "evaluate(train_predictions,test_predictions)"
   ]
  },
  {
   "cell_type": "markdown",
   "metadata": {},
   "source": [
    "## Ajustando o treinamento com o dataset de teste"
   ]
  },
  {
   "cell_type": "code",
   "execution_count": 17,
   "metadata": {},
   "outputs": [
    {
     "name": "stdout",
     "output_type": "stream",
     "text": [
      "Epoch 1/1\n",
      "2831/2831 [==============================] - 8s 3ms/step - loss: 89.4302\n"
     ]
    },
    {
     "data": {
      "text/plain": [
       "<keras.callbacks.callbacks.History at 0x19abeb0bd48>"
      ]
     },
     "execution_count": 17,
     "metadata": {},
     "output_type": "execute_result"
    }
   ],
   "source": [
    "model.fit(\n",
    "    x = X_test,y=y_test,\n",
    "    epochs=1,\n",
    ")"
   ]
  },
  {
   "cell_type": "markdown",
   "metadata": {},
   "source": [
    "## Salvando o modelo final"
   ]
  },
  {
   "cell_type": "code",
   "execution_count": 18,
   "metadata": {},
   "outputs": [],
   "source": [
    "model.save(model_path + model_name + '_final.h5')"
   ]
  }
 ],
 "metadata": {
  "kernelspec": {
   "display_name": "Python 3",
   "language": "python",
   "name": "python3"
  },
  "language_info": {
   "codemirror_mode": {
    "name": "ipython",
    "version": 3
   },
   "file_extension": ".py",
   "mimetype": "text/x-python",
   "name": "python",
   "nbconvert_exporter": "python",
   "pygments_lexer": "ipython3",
   "version": "3.7.3"
  }
 },
 "nbformat": 4,
 "nbformat_minor": 2
}
